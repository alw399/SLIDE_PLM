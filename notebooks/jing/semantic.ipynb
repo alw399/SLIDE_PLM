{
 "cells": [
  {
   "cell_type": "code",
   "execution_count": 1,
   "metadata": {},
   "outputs": [],
   "source": [
    "%load_ext autoreload\n",
    "%autoreload 2"
   ]
  },
  {
   "cell_type": "code",
   "execution_count": 2,
   "metadata": {},
   "outputs": [],
   "source": [
    "import numpy as np \n",
    "import pandas as pd \n",
    "import scanpy as sc\n",
    "\n",
    "import matplotlib.pyplot as plt \n",
    "import seaborn as sns\n"
   ]
  },
  {
   "cell_type": "code",
   "execution_count": 3,
   "metadata": {},
   "outputs": [],
   "source": [
    "import sys, os\n",
    "sys.path.append('../../src')\n",
    "\n",
    "# from interaction import Interaction\n",
    "from util import compute_auc"
   ]
  },
  {
   "cell_type": "code",
   "execution_count": 4,
   "metadata": {},
   "outputs": [
    {
     "data": {
      "text/plain": [
       "(10191,)"
      ]
     },
     "execution_count": 4,
     "metadata": {},
     "output_type": "execute_result"
    }
   ],
   "source": [
    "y_path = '/ix/djishnu/Jane/SLIDESWING/jing_data/KIR+TEDDY/data/KIR+TEDDY_Yexpanded_filtered85.csv'\n",
    "y = pd.read_csv(y_path)['Y'].values\n",
    "y.shape"
   ]
  },
  {
   "cell_type": "code",
   "execution_count": 5,
   "metadata": {},
   "outputs": [],
   "source": [
    "slide_outs = '/ix/djishnu/Jane/SLIDESWING/jing_data/KIR+TEDDY/KIR+TEDDY_filtered85/KIR+TEDDY_filtered85_noint_output/0.01_0.5_out'"
   ]
  },
  {
   "cell_type": "code",
   "execution_count": 6,
   "metadata": {},
   "outputs": [
    {
     "data": {
      "text/plain": [
       "dict_keys(['Z17', 'Z5', 'Z18', 'Z20', 'Z30'])"
      ]
     },
     "execution_count": 6,
     "metadata": {},
     "output_type": "execute_result"
    }
   ],
   "source": [
    "from util import get_genes_from_slide_outs\n",
    "\n",
    "lf_dict = get_genes_from_slide_outs(slide_outs)\n",
    "lf_dict.keys()"
   ]
  },
  {
   "cell_type": "code",
   "execution_count": 7,
   "metadata": {},
   "outputs": [
    {
     "data": {
      "text/plain": [
       "55"
      ]
     },
     "execution_count": 7,
     "metadata": {},
     "output_type": "execute_result"
    }
   ],
   "source": [
    "all_genes = np.unique(np.concatenate([lf_dict[lf] for lf in lf_dict]))\n",
    "len(all_genes)"
   ]
  },
  {
   "cell_type": "code",
   "execution_count": 8,
   "metadata": {},
   "outputs": [
    {
     "data": {
      "text/plain": [
       "(55, 1536)"
      ]
     },
     "execution_count": 8,
     "metadata": {},
     "output_type": "execute_result"
    }
   ],
   "source": [
    "from genept import GenePTEmbedder\n",
    "\n",
    "genept = GenePTEmbedder()\n",
    "gene_embeddings = genept.get_gene_info(all_genes)\n",
    "gene_embeddings.shape"
   ]
  },
  {
   "cell_type": "code",
   "execution_count": 9,
   "metadata": {},
   "outputs": [],
   "source": [
    "# Create 0, 1 presence/absence matrix\n",
    "\n",
    "gex_df = pd.read_csv('/ix/djishnu/Jane/SLIDESWING/jing_data/KIR+TEDDY/data/KIR+TEDDY_rna_filtered85.csv', \n",
    "                     usecols=list(all_genes))\n",
    "gex_threshes = gex_df.mean(axis=0)"
   ]
  },
  {
   "cell_type": "code",
   "execution_count": 10,
   "metadata": {},
   "outputs": [
    {
     "data": {
      "text/plain": [
       "(10191, 55)"
      ]
     },
     "execution_count": 10,
     "metadata": {},
     "output_type": "execute_result"
    }
   ],
   "source": [
    "mask_df = pd.DataFrame(\n",
    "    np.where(gex_df > gex_threshes, 1, 0), \n",
    "    index=gex_df.index, \n",
    "    columns=gex_df.columns\n",
    ")\n",
    "\n",
    "mask_df.shape"
   ]
  },
  {
   "cell_type": "code",
   "execution_count": 11,
   "metadata": {},
   "outputs": [
    {
     "data": {
      "text/plain": [
       "((10191, 55), (10191, 55), (55, 1536))"
      ]
     },
     "execution_count": 11,
     "metadata": {},
     "output_type": "execute_result"
    }
   ],
   "source": [
    "gex_df.shape, mask_df.shape, gene_embeddings.shape"
   ]
  },
  {
   "cell_type": "code",
   "execution_count": 12,
   "metadata": {},
   "outputs": [
    {
     "data": {
      "text/plain": [
       "(10191, 55, 1536)"
      ]
     },
     "execution_count": 12,
     "metadata": {},
     "output_type": "execute_result"
    }
   ],
   "source": [
    "genept_df = np.einsum('ij,jk->ijk', mask_df.values, gene_embeddings)\n",
    "genept_df.shape"
   ]
  },
  {
   "cell_type": "code",
   "execution_count": 13,
   "metadata": {},
   "outputs": [
    {
     "data": {
      "text/plain": [
       "(10191, 84480)"
      ]
     },
     "execution_count": 13,
     "metadata": {},
     "output_type": "execute_result"
    }
   ],
   "source": [
    "genept_df = genept_df.reshape(gex_df.shape[0], -1)\n",
    "genept_df.shape"
   ]
  },
  {
   "cell_type": "code",
   "execution_count": 14,
   "metadata": {},
   "outputs": [
    {
     "data": {
      "text/plain": [
       "(10191, 1536)"
      ]
     },
     "execution_count": 14,
     "metadata": {},
     "output_type": "execute_result"
    }
   ],
   "source": [
    "wgenept_df = gex_df @ gene_embeddings\n",
    "wgenept_df.shape"
   ]
  },
  {
   "cell_type": "code",
   "execution_count": null,
   "metadata": {},
   "outputs": [],
   "source": []
  },
  {
   "cell_type": "code",
   "execution_count": null,
   "metadata": {},
   "outputs": [],
   "source": []
  },
  {
   "cell_type": "code",
   "execution_count": 15,
   "metadata": {},
   "outputs": [
    {
     "data": {
      "text/plain": [
       "0.7901003346607715"
      ]
     },
     "execution_count": 15,
     "metadata": {},
     "output_type": "execute_result"
    }
   ],
   "source": [
    "# Lasso regression on LF gene expression matrix\n",
    "\n",
    "from sklearn.linear_model import Lasso\n",
    "\n",
    "lasso1 = Lasso(alpha=0.1)\n",
    "lasso1.fit(gex_df.values, y)\n",
    "\n",
    "# lasso.score(gex_df.values, y)\n",
    "yhat = lasso1.predict(gex_df.values)\n",
    "compute_auc(yhat, y)"
   ]
  },
  {
   "cell_type": "code",
   "execution_count": 16,
   "metadata": {},
   "outputs": [
    {
     "data": {
      "text/plain": [
       "0.7811798978403961"
      ]
     },
     "execution_count": 16,
     "metadata": {},
     "output_type": "execute_result"
    }
   ],
   "source": [
    "# Lasso regression on mean-thresholded gene expression\n",
    "\n",
    "lasso2 = Lasso(alpha=0.1)\n",
    "lasso2.fit(mask_df.values, y)\n",
    "\n",
    "yhat = lasso2.predict(mask_df.values)\n",
    "compute_auc(yhat, y)"
   ]
  },
  {
   "cell_type": "code",
   "execution_count": 17,
   "metadata": {},
   "outputs": [
    {
     "data": {
      "text/plain": [
       "0.5"
      ]
     },
     "execution_count": 17,
     "metadata": {},
     "output_type": "execute_result"
    }
   ],
   "source": [
    "# Lasso regression on semantic embeddings\n",
    "\n",
    "lasso3 = Lasso(alpha=0.1)\n",
    "lasso3.fit(genept_df, y)\n",
    "\n",
    "yhat = lasso3.predict(genept_df)\n",
    "compute_auc(yhat, y)"
   ]
  },
  {
   "cell_type": "code",
   "execution_count": 18,
   "metadata": {},
   "outputs": [
    {
     "data": {
      "text/plain": [
       "0.7182413959435096"
      ]
     },
     "execution_count": 18,
     "metadata": {},
     "output_type": "execute_result"
    }
   ],
   "source": [
    "# Lasso regression on semantic embeddings\n",
    "\n",
    "lasso4 = Lasso(alpha=0.1)\n",
    "lasso4.fit(wgenept_df, y)\n",
    "\n",
    "yhat = lasso4.predict(wgenept_df)\n",
    "compute_auc(yhat, y)"
   ]
  },
  {
   "cell_type": "code",
   "execution_count": null,
   "metadata": {},
   "outputs": [],
   "source": []
  },
  {
   "cell_type": "code",
   "execution_count": 19,
   "metadata": {},
   "outputs": [
    {
     "data": {
      "text/plain": [
       "0.8060473258768566"
      ]
     },
     "execution_count": 19,
     "metadata": {},
     "output_type": "execute_result"
    }
   ],
   "source": [
    "from sklearn.linear_model import LinearRegression\n",
    "\n",
    "lr = LinearRegression()\n",
    "lr.fit(gex_df.values, y)\n",
    "\n",
    "yhat = lr.predict(gex_df.values)\n",
    "compute_auc(yhat, y)"
   ]
  },
  {
   "cell_type": "code",
   "execution_count": 20,
   "metadata": {},
   "outputs": [
    {
     "data": {
      "text/plain": [
       "0.800227993852562"
      ]
     },
     "execution_count": 20,
     "metadata": {},
     "output_type": "execute_result"
    }
   ],
   "source": [
    "lr = LinearRegression()\n",
    "lr.fit(mask_df.values, y)\n",
    "\n",
    "yhat = lr.predict(mask_df.values)\n",
    "compute_auc(yhat, y)"
   ]
  },
  {
   "cell_type": "code",
   "execution_count": 21,
   "metadata": {},
   "outputs": [
    {
     "data": {
      "text/plain": [
       "0.7978301395019409"
      ]
     },
     "execution_count": 21,
     "metadata": {},
     "output_type": "execute_result"
    }
   ],
   "source": [
    "lr = LinearRegression()\n",
    "lr.fit(genept_df, y)\n",
    "\n",
    "yhat = lr.predict(genept_df)\n",
    "compute_auc(yhat, y)"
   ]
  },
  {
   "cell_type": "code",
   "execution_count": 22,
   "metadata": {},
   "outputs": [
    {
     "data": {
      "text/plain": [
       "0.8043803984671098"
      ]
     },
     "execution_count": 22,
     "metadata": {},
     "output_type": "execute_result"
    }
   ],
   "source": [
    "lr = LinearRegression()\n",
    "lr.fit(wgenept_df, y)\n",
    "\n",
    "yhat = lr.predict(wgenept_df)\n",
    "compute_auc(yhat, y)"
   ]
  },
  {
   "cell_type": "code",
   "execution_count": null,
   "metadata": {},
   "outputs": [],
   "source": []
  },
  {
   "cell_type": "code",
   "execution_count": 29,
   "metadata": {},
   "outputs": [
    {
     "name": "stdout",
     "output_type": "stream",
     "text": [
      "using cuda device...\n"
     ]
    },
    {
     "name": "stderr",
     "output_type": "stream",
     "text": [
      "Epoch 49 loss: 0.05127400904893875: 100%|██████████| 50/50 [00:04<00:00, 10.84it/s]\n"
     ]
    },
    {
     "data": {
      "text/plain": [
       "0.920689087367176"
      ]
     },
     "execution_count": 29,
     "metadata": {},
     "output_type": "execute_result"
    }
   ],
   "source": [
    "from models import SimpleNN\n",
    "\n",
    "nn = SimpleNN(input_dim=gex_df.shape[1], output_dim=1)\n",
    "nn.init_weights(nn.model)\n",
    "\n",
    "nn.fit(gex_df.values, y, epochs=50, batch_size=100)\n",
    "yhat = nn.predict(gex_df.values)\n",
    "compute_auc(yhat, y)"
   ]
  },
  {
   "cell_type": "code",
   "execution_count": 30,
   "metadata": {},
   "outputs": [
    {
     "name": "stdout",
     "output_type": "stream",
     "text": [
      "using cuda device...\n"
     ]
    },
    {
     "name": "stderr",
     "output_type": "stream",
     "text": [
      "Epoch 49 loss: 0.08475366979837418: 100%|██████████| 50/50 [00:04<00:00, 10.83it/s]\n"
     ]
    },
    {
     "data": {
      "text/plain": [
       "0.9390547290680417"
      ]
     },
     "execution_count": 30,
     "metadata": {},
     "output_type": "execute_result"
    }
   ],
   "source": [
    "nn = SimpleNN(input_dim=mask_df.shape[1], output_dim=1)\n",
    "nn.init_weights(nn.model)\n",
    "\n",
    "nn.fit(mask_df.values, y, epochs=50, batch_size=100)\n",
    "yhat = nn.predict(mask_df.values)\n",
    "compute_auc(yhat, y)"
   ]
  },
  {
   "cell_type": "code",
   "execution_count": 31,
   "metadata": {},
   "outputs": [
    {
     "name": "stdout",
     "output_type": "stream",
     "text": [
      "using cuda device...\n"
     ]
    },
    {
     "name": "stderr",
     "output_type": "stream",
     "text": [
      "Epoch 49 loss: 0.17152614891529083: 100%|██████████| 50/50 [00:37<00:00,  1.32it/s]\n"
     ]
    },
    {
     "data": {
      "text/plain": [
       "0.8240360206874437"
      ]
     },
     "execution_count": 31,
     "metadata": {},
     "output_type": "execute_result"
    }
   ],
   "source": [
    "nn = SimpleNN(input_dim=genept_df.shape[1], output_dim=1)\n",
    "nn.init_weights(nn.model)\n",
    "\n",
    "nn.fit(genept_df, y, epochs=50, batch_size=100)\n",
    "yhat = nn.predict(genept_df)\n",
    "compute_auc(yhat, y)"
   ]
  },
  {
   "cell_type": "code",
   "execution_count": 35,
   "metadata": {},
   "outputs": [
    {
     "name": "stdout",
     "output_type": "stream",
     "text": [
      "using cuda device...\n"
     ]
    },
    {
     "name": "stderr",
     "output_type": "stream",
     "text": [
      "Epoch 49 loss: 0.16431468725204468: 100%|██████████| 50/50 [00:05<00:00,  9.51it/s]\n"
     ]
    },
    {
     "data": {
      "text/plain": [
       "0.8022074640949802"
      ]
     },
     "execution_count": 35,
     "metadata": {},
     "output_type": "execute_result"
    }
   ],
   "source": [
    "nn = SimpleNN(input_dim=wgenept_df.shape[1], output_dim=1)\n",
    "nn.init_weights(nn.model)\n",
    "\n",
    "nn.fit(wgenept_df.values, y, epochs=50, batch_size=100)\n",
    "yhat = nn.predict(wgenept_df.values)\n",
    "compute_auc(yhat, y)"
   ]
  },
  {
   "cell_type": "code",
   "execution_count": null,
   "metadata": {},
   "outputs": [],
   "source": []
  },
  {
   "cell_type": "code",
   "execution_count": null,
   "metadata": {},
   "outputs": [],
   "source": [
    "gene_embeddings.shape"
   ]
  },
  {
   "cell_type": "code",
   "execution_count": null,
   "metadata": {},
   "outputs": [],
   "source": [
    "genept_df[4, 4*1536:5*1536]"
   ]
  },
  {
   "cell_type": "code",
   "execution_count": null,
   "metadata": {},
   "outputs": [],
   "source": [
    "genept_df[4, 5*1536:6*1536]"
   ]
  },
  {
   "cell_type": "code",
   "execution_count": null,
   "metadata": {},
   "outputs": [],
   "source": [
    "gene_embeddings[5]"
   ]
  },
  {
   "cell_type": "code",
   "execution_count": null,
   "metadata": {},
   "outputs": [],
   "source": [
    "mask_df.iloc[4]"
   ]
  },
  {
   "cell_type": "code",
   "execution_count": null,
   "metadata": {},
   "outputs": [],
   "source": []
  },
  {
   "cell_type": "code",
   "execution_count": null,
   "metadata": {},
   "outputs": [],
   "source": []
  }
 ],
 "metadata": {
  "kernelspec": {
   "display_name": "Python 3.9.18 ('bee': conda)",
   "language": "python",
   "name": "python3"
  },
  "language_info": {
   "codemirror_mode": {
    "name": "ipython",
    "version": 3
   },
   "file_extension": ".py",
   "mimetype": "text/x-python",
   "name": "python",
   "nbconvert_exporter": "python",
   "pygments_lexer": "ipython3",
   "version": "3.9.18"
  },
  "vscode": {
   "interpreter": {
    "hash": "d5e083718e887c55b29d4f7da6a44fbfc7ac6a325d83706ddad436d58aee562b"
   }
  }
 },
 "nbformat": 4,
 "nbformat_minor": 2
}
