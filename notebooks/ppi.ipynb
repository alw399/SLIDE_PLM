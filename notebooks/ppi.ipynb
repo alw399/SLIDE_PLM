{
 "cells": [
  {
   "cell_type": "code",
   "execution_count": 1,
   "metadata": {},
   "outputs": [],
   "source": [
    "%load_ext autoreload\n",
    "%autoreload 2"
   ]
  },
  {
   "cell_type": "code",
   "execution_count": 2,
   "metadata": {},
   "outputs": [
    {
     "name": "stderr",
     "output_type": "stream",
     "text": [
      "/ix/djishnu/alw399/envs/parrot/lib/python3.10/site-packages/anndata/utils.py:429: FutureWarning: Importing read_csv from `anndata` is deprecated. Import anndata.io.read_csv instead.\n",
      "  warnings.warn(msg, FutureWarning)\n",
      "/ix/djishnu/alw399/envs/parrot/lib/python3.10/site-packages/anndata/utils.py:429: FutureWarning: Importing read_excel from `anndata` is deprecated. Import anndata.io.read_excel instead.\n",
      "  warnings.warn(msg, FutureWarning)\n",
      "/ix/djishnu/alw399/envs/parrot/lib/python3.10/site-packages/anndata/utils.py:429: FutureWarning: Importing read_hdf from `anndata` is deprecated. Import anndata.io.read_hdf instead.\n",
      "  warnings.warn(msg, FutureWarning)\n",
      "/ix/djishnu/alw399/envs/parrot/lib/python3.10/site-packages/anndata/utils.py:429: FutureWarning: Importing read_loom from `anndata` is deprecated. Import anndata.io.read_loom instead.\n",
      "  warnings.warn(msg, FutureWarning)\n",
      "/ix/djishnu/alw399/envs/parrot/lib/python3.10/site-packages/anndata/utils.py:429: FutureWarning: Importing read_mtx from `anndata` is deprecated. Import anndata.io.read_mtx instead.\n",
      "  warnings.warn(msg, FutureWarning)\n",
      "/ix/djishnu/alw399/envs/parrot/lib/python3.10/site-packages/anndata/utils.py:429: FutureWarning: Importing read_text from `anndata` is deprecated. Import anndata.io.read_text instead.\n",
      "  warnings.warn(msg, FutureWarning)\n",
      "/ix/djishnu/alw399/envs/parrot/lib/python3.10/site-packages/anndata/utils.py:429: FutureWarning: Importing read_umi_tools from `anndata` is deprecated. Import anndata.io.read_umi_tools instead.\n",
      "  warnings.warn(msg, FutureWarning)\n"
     ]
    }
   ],
   "source": [
    "import numpy as np \n",
    "import pandas as pd \n",
    "import scanpy as sc"
   ]
  },
  {
   "cell_type": "code",
   "execution_count": 3,
   "metadata": {},
   "outputs": [],
   "source": [
    "import sys, os\n",
    "sys.path.append('../src')\n",
    "\n",
    "from interaction import Interaction\n",
    "from util import compute_auc"
   ]
  },
  {
   "cell_type": "code",
   "execution_count": 136,
   "metadata": {},
   "outputs": [],
   "source": [
    "# JING CLONAL EXPANSION\n",
    "x_path = '/ix/djishnu/Jane/SLIDESWING/jing_data/KIR+TEDDY/data/KIR+TEDDY_rna_filtered85.csv'\n",
    "y_path = '/ix/djishnu/Jane/SLIDESWING/jing_data/KIR+TEDDY/data/KIR+TEDDY_Yexpanded_filtered85.csv'\n",
    "slide_outs = '/ix/djishnu/Jane/SLIDESWING/jing_data/KIR+TEDDY/KIR+TEDDY_filtered85/KIR+TEDDY_filtered85_noint_output/0.01_0.5_out'\n",
    "y = pd.read_csv(y_path)['Y'].values\n",
    "\n",
    "# # JING TUMOR TIL VS TEMRA\n",
    "# x_path = '/ix/djishnu/alw399/SLIDE_PLM/data/jing_tumor/tumor_x2.csv'\n",
    "# y_path = '/ix/djishnu/alw399/SLIDE_PLM/data/jing_tumor/tumor_y2.csv'\n",
    "# slide_outs = '/ix/djishnu/alw399/SLIDE_PLM/data/jing_tumor/0.05_0.5_out'\n",
    "# y = pd.read_csv(y_path)['y'].values\n",
    "\n",
    "# # ALOK ANTIGEN SPECIFICITY \n",
    "# x_path = '/ix/djishnu/Jane/SLIDESWING/alok_data/data/Ins1_InsChg2_rna_MRfilt_forSLIDE.csv'\n",
    "# y_path = '/ix/djishnu/Jane/SLIDESWING/alok_data/data/Ins1_InsChg2_rna_MRfilt_antigens.csv'\n",
    "# slide_outs = '/ix/djishnu/Jane/SLIDESWING/alok_data/alok_data12_MRfilt_noint_out/0.01_2_out'\n",
    "# y = pd.read_csv(y_path)['Antigen'].values - 1\n"
   ]
  },
  {
   "cell_type": "code",
   "execution_count": 137,
   "metadata": {},
   "outputs": [
    {
     "data": {
      "text/plain": [
       "dict_keys(['Z17', 'Z5', 'Z18', 'Z20', 'Z30'])"
      ]
     },
     "execution_count": 137,
     "metadata": {},
     "output_type": "execute_result"
    }
   ],
   "source": [
    "from util import get_genes_from_slide_outs\n",
    "\n",
    "lf_dict = get_genes_from_slide_outs(slide_outs)\n",
    "lf_dict.keys()"
   ]
  },
  {
   "cell_type": "code",
   "execution_count": 138,
   "metadata": {},
   "outputs": [
    {
     "data": {
      "text/plain": [
       "55"
      ]
     },
     "execution_count": 138,
     "metadata": {},
     "output_type": "execute_result"
    }
   ],
   "source": [
    "all_genes = np.unique(np.concatenate([lf_dict[lf] for lf in lf_dict]))\n",
    "len(all_genes)"
   ]
  },
  {
   "cell_type": "code",
   "execution_count": 139,
   "metadata": {},
   "outputs": [
    {
     "name": "stdout",
     "output_type": "stream",
     "text": [
      "Found 51/55 gene embeddings\n"
     ]
    }
   ],
   "source": [
    "gene_embeddings = pd.read_csv('../data/ppi/human_embeddings.csv', index_col=0)\n",
    "null_genes = [g for g in all_genes if g not in gene_embeddings.index]\n",
    "print(f'Found {len(all_genes)-len(null_genes)}/{len(all_genes)} gene embeddings')"
   ]
  },
  {
   "cell_type": "code",
   "execution_count": 140,
   "metadata": {},
   "outputs": [
    {
     "name": "stderr",
     "output_type": "stream",
     "text": [
      "/tmp/ipykernel_28351/809699600.py:5: FutureWarning: Downcasting object dtype arrays on .fillna, .ffill, .bfill is deprecated and will change in a future version. Call result.infer_objects(copy=False) instead. To opt-in to the future behavior, set `pd.set_option('future.no_silent_downcasting', True)`\n",
      "  columns=gene_embeddings.columns).fillna(1)\n"
     ]
    },
    {
     "data": {
      "text/plain": [
       "(55, 64)"
      ]
     },
     "execution_count": 140,
     "metadata": {},
     "output_type": "execute_result"
    }
   ],
   "source": [
    "gene_embeddings = pd.concat([\n",
    "    gene_embeddings, \n",
    "    pd.DataFrame(\n",
    "        index=null_genes, \n",
    "        columns=gene_embeddings.columns).fillna(1)\n",
    "    ], axis=0)\n",
    "\n",
    "gene_embeddings = gene_embeddings.loc[all_genes]\n",
    "gene_embeddings.shape"
   ]
  },
  {
   "cell_type": "code",
   "execution_count": 141,
   "metadata": {},
   "outputs": [
    {
     "data": {
      "text/plain": [
       "(10191, 55)"
      ]
     },
     "execution_count": 141,
     "metadata": {},
     "output_type": "execute_result"
    }
   ],
   "source": [
    "# Create 0, 1 presence/absence matrix\n",
    "\n",
    "gex_df = pd.read_csv(x_path, usecols=list(all_genes))\n",
    "gex_threshes = gex_df.mean(axis=0)\n",
    "\n",
    "mask_df = pd.DataFrame(\n",
    "    np.where(gex_df > gex_threshes, 1, 0), \n",
    "    index=gex_df.index, \n",
    "    columns=gex_df.columns\n",
    ")\n",
    "\n",
    "mask_df.shape"
   ]
  },
  {
   "cell_type": "code",
   "execution_count": 142,
   "metadata": {},
   "outputs": [
    {
     "data": {
      "text/plain": [
       "((55, 64), (10191, 55))"
      ]
     },
     "execution_count": 142,
     "metadata": {},
     "output_type": "execute_result"
    }
   ],
   "source": [
    "gene_embeddings.shape, mask_df.shape"
   ]
  },
  {
   "cell_type": "code",
   "execution_count": 143,
   "metadata": {},
   "outputs": [
    {
     "data": {
      "text/plain": [
       "(10191, 3520)"
      ]
     },
     "execution_count": 143,
     "metadata": {},
     "output_type": "execute_result"
    }
   ],
   "source": [
    "genept_df = np.einsum('ij,jk->ijk', mask_df.values, gene_embeddings)\n",
    "\n",
    "genept_df = genept_df.reshape(gex_df.shape[0], -1)\n",
    "genept_df.shape"
   ]
  },
  {
   "cell_type": "code",
   "execution_count": 144,
   "metadata": {},
   "outputs": [
    {
     "data": {
      "text/plain": [
       "(10191, 64)"
      ]
     },
     "execution_count": 144,
     "metadata": {},
     "output_type": "execute_result"
    }
   ],
   "source": [
    "wgenept_df = gex_df @ gene_embeddings\n",
    "wgenept_df.shape"
   ]
  },
  {
   "cell_type": "code",
   "execution_count": 145,
   "metadata": {},
   "outputs": [
    {
     "data": {
      "text/plain": [
       "(10191, 5)"
      ]
     },
     "execution_count": 145,
     "metadata": {},
     "output_type": "execute_result"
    }
   ],
   "source": [
    "z_matrix = pd.read_csv(os.path.join(slide_outs, 'z_matrix.csv'), index_col=0)\n",
    "z_matrix = z_matrix[list(lf_dict.keys())].values\n",
    "z_matrix.shape"
   ]
  },
  {
   "cell_type": "code",
   "execution_count": 151,
   "metadata": {},
   "outputs": [],
   "source": [
    "from models import Estimator\n",
    "from sklearn.linear_model import Lasso, LinearRegression\n",
    "from sklearn.neural_network import MLPClassifier\n",
    "\n",
    "a=0.1\n",
    "model = Lasso(alpha=a, max_iter=10000)\n",
    "\n",
    "# model = LinearRegression() \n",
    "\n",
    "# model = MLPClassifier(max_iter=1000)"
   ]
  },
  {
   "cell_type": "code",
   "execution_count": 160,
   "metadata": {},
   "outputs": [],
   "source": [
    "# SLIDE z-matrix performance\n",
    "lasso0 = Estimator(model=model)\n",
    "\n",
    "auc0 = lasso0.evaluate(z_matrix, y)"
   ]
  },
  {
   "cell_type": "code",
   "execution_count": 161,
   "metadata": {},
   "outputs": [],
   "source": [
    "# Lasso regression on LF gene expression matrix\n",
    "lasso1 = Estimator(model=model)\n",
    "\n",
    "auc1 = lasso0.evaluate(gex_df.values, y)"
   ]
  },
  {
   "cell_type": "code",
   "execution_count": 162,
   "metadata": {},
   "outputs": [],
   "source": [
    "# Lasso regression on mean-thresholded gene expression\n",
    "\n",
    "lasso2 = Estimator(model=model)\n",
    "\n",
    "auc2 = lasso2.evaluate(mask_df.values, y)"
   ]
  },
  {
   "cell_type": "code",
   "execution_count": 163,
   "metadata": {},
   "outputs": [],
   "source": [
    "# Lasso regression on semantic embeddings\n",
    "\n",
    "lasso3 = Estimator(model=model)\n",
    "\n",
    "auc3 = lasso3.evaluate(genept_df, y)"
   ]
  },
  {
   "cell_type": "code",
   "execution_count": 164,
   "metadata": {},
   "outputs": [],
   "source": [
    "# Lasso regression on semantic embeddings\n",
    "\n",
    "lasso4 = Estimator(model=model)\n",
    "\n",
    "auc4 = lasso3.evaluate(wgenept_df.values, y)"
   ]
  },
  {
   "cell_type": "code",
   "execution_count": 165,
   "metadata": {},
   "outputs": [],
   "source": [
    "df = pd.DataFrame(\n",
    "    np.vstack([auc0, auc1, auc2, auc3, auc4]),\n",
    "    index=['z-matrix', 'gex', 'mask_gex', 'mask_ppi', 'w_ppi']\n",
    ")\n",
    "df.reset_index(inplace=True)\n",
    "df = df.melt(id_vars='index', var_name='iter', value_name='auc')"
   ]
  },
  {
   "cell_type": "code",
   "execution_count": 166,
   "metadata": {},
   "outputs": [],
   "source": [
    "def filter_pairs(pairs, df):\n",
    "    filtered = []\n",
    "    for i, j in pairs:\n",
    "        if not np.all(df[df['index'] == i]['auc'].values == df[df['index'] == j]['auc'].values):\n",
    "            filtered.append((i, j))\n",
    "    return filtered"
   ]
  },
  {
   "cell_type": "code",
   "execution_count": 167,
   "metadata": {},
   "outputs": [
    {
     "name": "stdout",
     "output_type": "stream",
     "text": [
      "p-value annotation legend:\n",
      "      ns: 5.00e-02 < p <= 1.00e+00\n",
      "       *: 1.00e-02 < p <= 5.00e-02\n",
      "      **: 1.00e-03 < p <= 1.00e-02\n",
      "     ***: 1.00e-04 < p <= 1.00e-03\n",
      "    ****: p <= 1.00e-04\n",
      "\n",
      "mask_gex vs. mask_ppi: Kruskal-Wallis independent samples (pairwise between groups), P_val:1.261e-02 Stat=6.223e+00\n",
      "mask_ppi vs. w_ppi: Kruskal-Wallis independent samples (pairwise between groups), P_val:3.197e-03 Stat=8.691e+00\n",
      "gex vs. mask_ppi: Kruskal-Wallis independent samples (pairwise between groups), P_val:1.152e-03 Stat=1.057e+01\n",
      "mask_ppi vs. z-matrix: Kruskal-Wallis independent samples (pairwise between groups), P_val:1.940e-03 Stat=9.606e+00\n"
     ]
    },
    {
     "data": {
      "image/png": "[encoded data removed]",
      "text/plain": [
       "<Figure size 1500x1500 with 1 Axes>"
      ]
     },
     "metadata": {},
     "output_type": "display_data"
    }
   ],
   "source": [
    "import seaborn as sns \n",
    "import matplotlib.pyplot as plt \n",
    "from statannotations.Annotator import Annotator\n",
    "import itertools \n",
    "\n",
    "fig, ax = plt.subplots(figsize=(10,10), dpi=150)\n",
    "\n",
    "sns.boxplot(data=df, x='index', y='auc', hue='index', palette='hls', ax=ax, showfliers=False, order=np.unique(df['index']))\n",
    "sns.stripplot(data=df, x='index', y='auc', hue='index', ax=ax, palette='hls', legend=False, linewidth=1, edgecolor='black', jitter=True)\n",
    "\n",
    "pairs=list(itertools.combinations(np.unique(df['index']), 2))\n",
    "pairs = filter_pairs(pairs, df)\n",
    "\n",
    "annotator = Annotator(ax, pairs, data=df, x='index', y='auc', order=np.unique(df['index']))\n",
    "annotator.configure(test='Kruskal', text_format='star', loc='inside', verbose=2, hide_non_significant=True)\n",
    "annotator.apply_and_annotate()\n",
    "\n",
    "means = df.groupby('index')['auc'].mean()\n",
    "for i, mean in zip(means.index, means):\n",
    "    plt.text(i, df['auc'].max()+0.001 , f'Mean: {mean:.2f}', ha='center', va='bottom', fontsize=8, color='black')\n",
    "\n",
    "plt.title(f'{model.__class__.__name__} Performance')\n",
    "plt.tight_layout()"
   ]
  },
  {
   "cell_type": "code",
   "execution_count": null,
   "metadata": {},
   "outputs": [],
   "source": [
    "# with open(os.path.join(slide_outs, 'standard_out.txt'), 'r') as f:\n",
    "#     standard_out = f.readlines()\n",
    "# slide_auc = standard_out[-1].split(' ')[-2]\n",
    "\n",
    "# slide_auc = '0.951218206396577'\n",
    "# slide_auc = '0.747932' "
   ]
  },
  {
   "cell_type": "code",
   "execution_count": null,
   "metadata": {},
   "outputs": [],
   "source": [
    "# pd.DataFrame({\n",
    "#     'slide': slide_auc[:8],\n",
    "#     'z_matrix': auc0,\n",
    "#     'gex': auc1,\n",
    "#     'mask_gex': auc2,\n",
    "#     'wgenept': auc3\n",
    "# }, index=['auc']).T\n"
   ]
  },
  {
   "cell_type": "code",
   "execution_count": null,
   "metadata": {},
   "outputs": [],
   "source": []
  },
  {
   "cell_type": "code",
   "execution_count": null,
   "metadata": {},
   "outputs": [],
   "source": []
  },
  {
   "cell_type": "markdown",
   "metadata": {},
   "source": [
    "### Make PPI embeddings"
   ]
  },
  {
   "cell_type": "code",
   "execution_count": null,
   "metadata": {},
   "outputs": [
    {
     "ename": "NameError",
     "evalue": "name 'stop' is not defined",
     "output_type": "error",
     "traceback": [
      "\u001b[0;31m---------------------------------------------------------------------------\u001b[0m",
      "\u001b[0;31mNameError\u001b[0m                                 Traceback (most recent call last)",
      "Cell \u001b[0;32mIn[24], line 1\u001b[0m\n\u001b[0;32m----> 1\u001b[0m \u001b[43mstop\u001b[49m\n",
      "\u001b[0;31mNameError\u001b[0m: name 'stop' is not defined"
     ]
    }
   ],
   "source": [
    "stop"
   ]
  },
  {
   "cell_type": "code",
   "execution_count": null,
   "metadata": {},
   "outputs": [],
   "source": [
    "# ppi_binary = pd.read_csv('/ix/djishnu/alw399/integration/data/HomoSapiens_binary_hq.txt', sep='\\t')\n",
    "# ppi_cocomp = pd.read_csv('/ix/djishnu/alw399/integration/data/HomoSapiens_cocomp_hq.txt', sep='\\t')\n",
    "\n",
    "ppi_binary = pd.read_csv('/ix/djishnu/alw399/integration/data/MusMusculus_binary_hq.txt', sep='\\t')\n",
    "ppi_cocomp = pd.read_csv('/ix/djishnu/alw399/integration/data/MusMusculus_cocomp_hq.txt', sep='\\t')\n",
    "\n",
    "ppi = pd.concat([ppi_binary, ppi_cocomp])\n",
    "\n",
    "edges = ppi[['Gene_A', 'Gene_B']].values\n",
    "edges.shape"
   ]
  },
  {
   "cell_type": "code",
   "execution_count": null,
   "metadata": {},
   "outputs": [],
   "source": [
    "import networkx as nx \n",
    "\n",
    "G = nx.Graph()\n",
    "G.add_edges_from(edges)\n",
    "\n",
    "# nx.write_edgelist(G, '../data/ppi/HomoSapien_joint_hq.edgelist')\n",
    "nx.write_edgelist(G, '../data/ppi/MusMusculus_joint_hq.edgelist')"
   ]
  },
  {
   "cell_type": "code",
   "execution_count": null,
   "metadata": {},
   "outputs": [],
   "source": [
    "from node2vec import Node2Vec\n",
    "\n",
    "node2vec = Node2Vec(\n",
    "    graph=G, \n",
    "    dimensions=64, \n",
    "    walk_length=30, \n",
    "    num_walks=200, \n",
    "    workers=1,\n",
    "    temp_folder='../data/ppi/tmp')  # Use temp_folder for big graphs\n",
    "\n",
    "# Embed nodes\n",
    "model = node2vec.fit(window=10, min_count=1, batch_words=4)  # Any keywords acceptable by gensim.Word2Vec can be passed, `dimensions` and `workers` are automatically passed (from the Node2Vec constructor)\n",
    "\n",
    "# Look for most similar nodes\n",
    "# model.wv.most_similar('2')  # Output node names are always strings\n"
   ]
  },
  {
   "cell_type": "code",
   "execution_count": null,
   "metadata": {},
   "outputs": [],
   "source": [
    "# # Save embeddings for later use\n",
    "# model.wv.save_word2vec_format('../data/ppi/HomoSapien_joint_hq.emd')\n",
    "\n",
    "# # Save model for later use\n",
    "# model.save('../data/ppi/HomoSapien_joint_hq.model')"
   ]
  },
  {
   "cell_type": "code",
   "execution_count": null,
   "metadata": {},
   "outputs": [],
   "source": [
    "word_vectors = model.wv\n",
    "word_vectors"
   ]
  },
  {
   "cell_type": "code",
   "execution_count": null,
   "metadata": {},
   "outputs": [],
   "source": [
    "# Create a list of words and their corresponding vectors\n",
    "words = list(word_vectors.key_to_index.keys())\n",
    "vectors = [word_vectors[word] for word in words]\n",
    "\n",
    "# Create a DataFrame\n",
    "df = pd.DataFrame(vectors, index=words)\n",
    "\n",
    "# Save the DataFrame to a CSV file\n",
    "df.to_csv('../data/ppi/mouse_embeddings.csv')"
   ]
  },
  {
   "cell_type": "markdown",
   "metadata": {},
   "source": [
    "### Gene sets"
   ]
  },
  {
   "cell_type": "code",
   "execution_count": null,
   "metadata": {},
   "outputs": [],
   "source": [
    "path = '/ix/djishnu/Hanxi/Multiomics_Integration/raw_pathways/m2.cp.v2023.2.Mm.symbols.gmt'\n",
    "pathways = pd.read_csv(path, sep='\\t', header=None)\n",
    "pathways"
   ]
  },
  {
   "cell_type": "code",
   "execution_count": null,
   "metadata": {},
   "outputs": [],
   "source": []
  },
  {
   "cell_type": "code",
   "execution_count": null,
   "metadata": {},
   "outputs": [],
   "source": []
  }
 ],
 "metadata": {
  "kernelspec": {
   "display_name": "Python 3",
   "language": "python",
   "name": "python3"
  },
  "language_info": {
   "codemirror_mode": {
    "name": "ipython",
    "version": 3
   },
   "file_extension": ".py",
   "mimetype": "text/x-python",
   "name": "python",
   "nbconvert_exporter": "python",
   "pygments_lexer": "ipython3",
   "version": "3.10.16"
  }
 },
 "nbformat": 4,
 "nbformat_minor": 2
}
