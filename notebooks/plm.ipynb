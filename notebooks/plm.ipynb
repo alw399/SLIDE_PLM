{
 "cells": [
  {
   "cell_type": "code",
   "execution_count": 20,
   "metadata": {},
   "outputs": [
    {
     "name": "stdout",
     "output_type": "stream",
     "text": [
      "The autoreload extension is already loaded. To reload it, use:\n",
      "  %reload_ext autoreload\n"
     ]
    }
   ],
   "source": [
    "%load_ext autoreload\n",
    "%autoreload 2"
   ]
  },
  {
   "cell_type": "code",
   "execution_count": 21,
   "metadata": {},
   "outputs": [],
   "source": [
    "import numpy as np \n",
    "import pandas as pd \n",
    "import os\n",
    "import torch\n",
    "import scanpy as sc \n",
    "\n",
    "import sys\n",
    "sys.path.append('../src')\n",
    "\n",
    "embedding_dir = '/ix/djishnu/alw399/SLIDE_PLM/data/pjm_models/embeddings/15epochs'"
   ]
  },
  {
   "cell_type": "code",
   "execution_count": 22,
   "metadata": {},
   "outputs": [],
   "source": [
    "# # CLONAL EXPANSION\n",
    "# name = 'jing_clonal_expansion'\n",
    "# n_pcs = 16\n",
    "# model_name = f'pjm_15epochs_pca{n_pcs}'\n",
    "# y_path = '/ix/djishnu/Jane/SLIDESWING/jing_data/KIR+TEDDY/data/KIR+TEDDY_Yexpanded_filtered85.csv'\n",
    "# slide_outs = '/ix/djishnu/Jane/SLIDESWING/jing_data/KIR+TEDDY/KIR+TEDDY_filtered85/KIR+TEDDY_filtered85_noint_output/0.01_0.5_out'\n",
    "# y = pd.read_csv(y_path)['Y'].values\n",
    "# sequences = pd.read_csv('/ix/djishnu/Jane/SLIDESWING/jing_data/KIR+TEDDY/data/KIR+TEDDY_betaseqs_raw.csv', index_col=0)\n",
    "\n",
    "# # JING TUMOR\n",
    "# name = 'jing_tumor'\n",
    "# n_pcs = 16\n",
    "# model_name = f'pjm_15epochs_pca{n_pcs}'\n",
    "# y_path = '/ix/djishnu/alw399/SLIDE_PLM/data/jing_tumor/tumor_y2.csv'\n",
    "# slide_outs = '/ix/djishnu/alw399/SLIDE_PLM/data/jing_tumor/0.05_0.5_out'\n",
    "# y = pd.read_csv(y_path)['y'].values\n",
    "# sequences = pd.read_csv('/ix/djishnu/alw399/SLIDE_PLM/data/jing_tumor/filtered_x2_cdr3_b.csv')\n",
    "\n",
    "# # ANTIGEN SPECIFICITY\n",
    "# name = 'alok_antigen_specificity'\n",
    "# n_pcs = 16\n",
    "# model_name = f'pjm_15epochs_pca{n_pcs}'\n",
    "# slide_outs = '/ix/djishnu/Jane/SLIDESWING/alok_data/alok_data12_MRfilt_noint_out/0.01_2_out'\n",
    "# x_path = '/ix/djishnu/Jane/SLIDESWING/alok_data/data/Ins1_InsChg2_rna_MRfilt_forSLIDE.csv'\n",
    "# y_path = '/ix/djishnu/Jane/SLIDESWING/alok_data/data/Ins1_InsChg2_rna_MRfilt_antigens.csv' \n",
    "# y = pd.read_csv(y_path)['Antigen'].values - 1\n",
    "# sequences = pd.read_csv('/ix/djishnu/Jane/SLIDESWING/alok_data/data/Ins1_InsChg2_seqs.csv', index_col=0)['beta']\n",
    "\n",
    "# # CONGA c2_gex_donor1\n",
    "# name = 'conga_c2_gex_donor1'\n",
    "# n_pcs = 16\n",
    "# model_name = f'pjm_15epochs_pca{n_pcs}'\n",
    "# y_path = '/ix3/djishnu/alw399/SLIDE_PLM/data/slide/inputs/10x_200k_donor1_y.csv'\n",
    "# slide_outs = '/ix3/djishnu/alw399/SLIDE_PLM/data/slide/outputs/10x_200k_donor1/0.01_0.5_out'\n",
    "# barcodes = pd.read_csv(y_path).index\n",
    "# y = pd.read_csv(y_path)['is_c2'].values\n",
    "# adata = sc.read_h5ad('/ix3/djishnu/alw399/SLIDE_PLM/data/conga/toJishnu/10x_200k_donor1.h5ad')\n",
    "# sequences = adata[barcodes, :].obs['cdr3b']\n",
    "\n",
    "# # CONGA mait donor1\n",
    "# name = 'conga_mait_donor1'\n",
    "# n_pcs = 16\n",
    "# model_name = f'pjm_15epochs_pca{n_pcs}'\n",
    "# y_path = '/ix3/djishnu/alw399/SLIDE_PLM/data/slide/inputs/10x_200k_donor1_mait_y.csv'\n",
    "# slide_outs = '/ix3/djishnu/alw399/SLIDE_PLM/data/slide/outputs/10x_200k_donor1_mait/0.01_0.5_out'\n",
    "# barcodes = pd.read_csv(y_path).index\n",
    "# y = pd.read_csv(y_path)['is_mait'].values\n",
    "# adata = sc.read_h5ad('/ix3/djishnu/alw399/SLIDE_PLM/data/conga/toJishnu/10x_200k_donor1.h5ad')\n",
    "# sequences = adata[barcodes, :].obs['cdr3b']\n",
    "# # sequences = adata[barcodes, :].obs['cdr3a']\n"
   ]
  },
  {
   "cell_type": "code",
   "execution_count": 23,
   "metadata": {},
   "outputs": [
    {
     "data": {
      "text/plain": [
       "(73, 5)"
      ]
     },
     "execution_count": 23,
     "metadata": {},
     "output_type": "execute_result"
    }
   ],
   "source": [
    "from util import get_sigLFs\n",
    "\n",
    "z1s = get_sigLFs(slide_outs)\n",
    "z_matrix = pd.read_csv(os.path.join(slide_outs, 'z_matrix.csv'), index_col=0)\n",
    "z_matrix = z_matrix[z1s]\n",
    "z_matrix.shape"
   ]
  },
  {
   "cell_type": "code",
   "execution_count": 24,
   "metadata": {},
   "outputs": [],
   "source": [
    "# Interactors did not contribute to signal\n",
    "# z_matrix = pd.DataFrame(z_matrix['Z7'])\n",
    "# z_matrix = pd.DataFrame(z_matrix['Z79'])"
   ]
  },
  {
   "cell_type": "code",
   "execution_count": 25,
   "metadata": {},
   "outputs": [
    {
     "data": {
      "text/plain": [
       "((73,), (73,), (73, 5))"
      ]
     },
     "execution_count": 25,
     "metadata": {},
     "output_type": "execute_result"
    }
   ],
   "source": [
    "from util import remove_empty_tcrs\n",
    "\n",
    "sequences, y, z_matrix = remove_empty_tcrs(sequences, y, z_matrix)\n",
    "sequences.shape, y.shape, z_matrix.shape"
   ]
  },
  {
   "cell_type": "code",
   "execution_count": null,
   "metadata": {},
   "outputs": [],
   "source": []
  },
  {
   "cell_type": "markdown",
   "metadata": {},
   "source": [
    "### Get embeddings from pjm model"
   ]
  },
  {
   "cell_type": "code",
   "execution_count": 15,
   "metadata": {},
   "outputs": [],
   "source": [
    "from pjm.pjm import from_pretrained, build_default_alphabet\n",
    "\n",
    "alphabet = build_default_alphabet()\n",
    "\n",
    "# Load encoder\n",
    "embedder = from_pretrained(\n",
    "    model_type=\"mmplm\",\n",
    "    alphabet=alphabet,\n",
    "    checkpoint_path='/ix/djishnu/alw399/SLIDE_PLM/data/pjm_models/mmplm_15epochs_dim256_ckpt.pth',\n",
    ")"
   ]
  },
  {
   "cell_type": "code",
   "execution_count": 16,
   "metadata": {},
   "outputs": [],
   "source": [
    "tokenizer = alphabet.get_batch_converter()\n",
    "\n",
    "batch_labels = sequences.astype(str)\n",
    "seq_str_list = sequences.astype(str)\n",
    "raw_batch = list(zip(batch_labels, seq_str_list))\n",
    "\n",
    "labels, strs, tokens = tokenizer(raw_batch)"
   ]
  },
  {
   "cell_type": "code",
   "execution_count": 17,
   "metadata": {},
   "outputs": [
    {
     "data": {
      "text/plain": [
       "torch.Size([1109, 24, 256])"
      ]
     },
     "execution_count": 17,
     "metadata": {},
     "output_type": "execute_result"
    }
   ],
   "source": [
    "embeddings = embedder(tokens)\n",
    "embeddings.shape"
   ]
  },
  {
   "cell_type": "code",
   "execution_count": 18,
   "metadata": {},
   "outputs": [],
   "source": [
    "np.save(os.path.join(embedding_dir, f'{name}.npy'), embeddings.detach().numpy())"
   ]
  },
  {
   "cell_type": "markdown",
   "metadata": {},
   "source": [
    "### Run interactions"
   ]
  },
  {
   "cell_type": "code",
   "execution_count": 26,
   "metadata": {},
   "outputs": [
    {
     "data": {
      "text/plain": [
       "(73, 4352)"
      ]
     },
     "execution_count": 26,
     "metadata": {},
     "output_type": "execute_result"
    }
   ],
   "source": [
    "embeddings = np.load(os.path.join(embedding_dir, f'{name}.npy'))\n",
    "embeddings = embeddings.reshape(embeddings.shape[0], -1)\n",
    "embeddings.shape"
   ]
  },
  {
   "cell_type": "code",
   "execution_count": 27,
   "metadata": {},
   "outputs": [
    {
     "data": {
      "text/plain": [
       "(73, 16)"
      ]
     },
     "execution_count": 27,
     "metadata": {},
     "output_type": "execute_result"
    }
   ],
   "source": [
    "from sklearn.decomposition import PCA\n",
    "\n",
    "model = PCA(n_components=n_pcs)\n",
    "model.fit(embeddings)\n",
    "tcr_embeddings = model.transform(embeddings)\n",
    "tcr_embeddings.shape"
   ]
  },
  {
   "cell_type": "code",
   "execution_count": 28,
   "metadata": {},
   "outputs": [
    {
     "data": {
      "image/png": "[encoded data removed]",
      "text/plain": [
       "<Figure size 1200x500 with 2 Axes>"
      ]
     },
     "metadata": {},
     "output_type": "display_data"
    }
   ],
   "source": [
    "import matplotlib.pyplot as plt\n",
    "\n",
    "fig, ax = plt.subplots(1, 2, figsize=(12, 5))\n",
    "\n",
    "# Scatter plot\n",
    "scatter = ax[0].scatter(tcr_embeddings[:, 0], tcr_embeddings[:, 1], c=y, cmap='cool', s=5)\n",
    "legend1 = ax[0].legend(*scatter.legend_elements(), title=\"Classes\")\n",
    "ax[0].set_title('PJM TCR Embeddings')\n",
    "ax[0].set_xlabel('PC1')\n",
    "ax[0].set_ylabel('PC2')\n",
    "\n",
    "# Cumulative variance explained plot\n",
    "cumsum_variance = np.cumsum(model.explained_variance_ratio_)\n",
    "ax[1].plot(range(1, n_pcs+1), cumsum_variance, marker='o')\n",
    "ax[1].set_title('Cumulative Variance Explained')\n",
    "ax[1].set_xlabel('Number of PCs')\n",
    "ax[1].set_ylabel('Cumulative Variance Explained')\n",
    "\n",
    "plt.tight_layout()\n",
    "os.makedirs(f'/ix/djishnu/alw399/SLIDE_PLM/results/plm/{name}', exist_ok=True)\n",
    "plt.savefig(f'/ix/djishnu/alw399/SLIDE_PLM/results/plm/{name}/{model_name}_pca.png')\n",
    "plt.show()\n"
   ]
  },
  {
   "cell_type": "code",
   "execution_count": 29,
   "metadata": {},
   "outputs": [
    {
     "data": {
      "image/png": "[encoded data removed]",
      "text/plain": [
       "<Figure size 600x300 with 2 Axes>"
      ]
     },
     "metadata": {},
     "output_type": "display_data"
    }
   ],
   "source": [
    "from interaction import Interaction\n",
    "\n",
    "machop = Interaction(\n",
    "    slide_outs, \n",
    "    plm_embed=tcr_embeddings, \n",
    "    y=y,\n",
    "    z_matrix=z_matrix,\n",
    "    interacts_only=False,\n",
    "    model='LR'\n",
    ")\n",
    "\n",
    "fig, axs = plt.subplots(1, 2, figsize=(6, 3))\n",
    "axs[0].hist(machop.plm_embedding.flatten())\n",
    "axs[1].hist(machop.z_matrix.flatten())\n",
    "plt.tight_layout()"
   ]
  },
  {
   "cell_type": "code",
   "execution_count": 30,
   "metadata": {},
   "outputs": [
    {
     "name": "stdout",
     "output_type": "stream",
     "text": [
      "Computing sig interactions using ORIGINAL interactions\n"
     ]
    },
    {
     "data": {
      "text/html": [
       "<style>\n",
       ".enlighten-fg-pink {\n",
       "  color: #ffc0cb;\n",
       "}\n",
       "</style>\n",
       "<div class=\"enlighten\">\n",
       "  <div class=\"enlighten-bar\">\n",
       "    <pre>Iteration 19: Found 0 significant interactions 100%|<span class=\"enlighten-fg-pink\">██████████████</span>| 20/20 [00:05&lt;00:00, 4.25 iter/s]</pre>\n",
       "  </div>\n",
       "</div>\n"
      ],
      "text/plain": [
       "<IPython.core.display.HTML object>"
      ]
     },
     "metadata": {},
     "output_type": "display_data"
    },
    {
     "name": "stdout",
     "output_type": "stream",
     "text": [
      "Found 0 significant interactions with AUC=0.5 (ORIGINAL)\n"
     ]
    }
   ],
   "source": [
    "fdr = 0.3\n",
    "thresh = 0.1\n",
    "\n",
    "machop.get_sig_interactions(fdr=fdr, n_iters=20, thresh=thresh)"
   ]
  },
  {
   "cell_type": "code",
   "execution_count": null,
   "metadata": {},
   "outputs": [],
   "source": [
    "from plotting import show_interactions\n",
    "show_interactions(machop, save_path=f'/ix/djishnu/alw399/SLIDE_PLM/results/plm/{name}/{model_name}_betas_fdr{fdr}_thresh{thresh}.png')"
   ]
  },
  {
   "cell_type": "code",
   "execution_count": null,
   "metadata": {},
   "outputs": [
    {
     "data": {
      "text/plain": [
       "(1109, 0)"
      ]
     },
     "execution_count": 24,
     "metadata": {},
     "output_type": "execute_result"
    }
   ],
   "source": [
    "machop.get_joint_embed()\n",
    "joint_embed = machop.joint_embed.copy()\n",
    "joint_embed.shape"
   ]
  },
  {
   "cell_type": "code",
   "execution_count": null,
   "metadata": {},
   "outputs": [],
   "source": [
    "thresh = machop.params['thresh']\n",
    "fdr = machop.params['fdr']\n",
    "n_iters = machop.params['n_iters']\n",
    "\n",
    "np.save(f'/ix/djishnu/alw399/SLIDE_PLM/results/plm/{name}/{model_name}_joint_embed_fdr{fdr}_iters{n_iters}_thresh_{thresh}.npy', joint_embed)"
   ]
  },
  {
   "cell_type": "code",
   "execution_count": null,
   "metadata": {},
   "outputs": [
    {
     "data": {
      "text/plain": [
       "(1109, 54)"
      ]
     },
     "execution_count": 26,
     "metadata": {},
     "output_type": "execute_result"
    }
   ],
   "source": [
    "full_embed = np.hstack([machop.z_matrix, machop.plm_embedding])\n",
    "full_embed.shape"
   ]
  },
  {
   "cell_type": "code",
   "execution_count": null,
   "metadata": {},
   "outputs": [],
   "source": [
    "from models import Estimator\n",
    "from sklearn.linear_model import Lasso, LinearRegression\n",
    "\n",
    "model = Lasso(alpha=0.02)"
   ]
  },
  {
   "cell_type": "code",
   "execution_count": null,
   "metadata": {},
   "outputs": [],
   "source": [
    "estimator = Estimator(model=model)\n",
    "auc0 = estimator.evaluate(joint_embed, y)\n",
    "auc1 = estimator.evaluate(full_embed, y)\n",
    "auc2 = estimator.evaluate(machop.z_matrix, y)\n",
    "auc3 = estimator.evaluate(machop.plm_embedding, y)"
   ]
  },
  {
   "cell_type": "code",
   "execution_count": null,
   "metadata": {},
   "outputs": [],
   "source": [
    "df = pd.DataFrame(\n",
    "    np.vstack([auc0, auc1, auc2, auc3]),\n",
    "    index=['joint', 'full', 'z-matrix', 'plm']\n",
    ")\n",
    "df.reset_index(inplace=True)"
   ]
  },
  {
   "cell_type": "code",
   "execution_count": null,
   "metadata": {},
   "outputs": [],
   "source": [
    "from plotting import show_performance\n",
    "show_performance(model, df, \n",
    "                 save_path=f'/ix/djishnu/alw399/SLIDE_PLM/results/plm/{name}/{model_name}_{model.__class__.__name__}_performance_fdr{fdr}_thresh{thresh}.png')"
   ]
  },
  {
   "cell_type": "code",
   "execution_count": null,
   "metadata": {},
   "outputs": [],
   "source": [
    "model = LinearRegression()\n",
    "\n",
    "estimator = Estimator(model=model)\n",
    "auc0 = estimator.evaluate(joint_embed, y)\n",
    "auc1 = estimator.evaluate(full_embed, y)\n",
    "auc2 = estimator.evaluate(machop.z_matrix, y)\n",
    "auc3 = estimator.evaluate(machop.plm_embedding, y)\n",
    "\n",
    "df = pd.DataFrame(\n",
    "    np.vstack([auc0, auc1, auc2, auc3]),\n",
    "    index=['joint', 'full', 'z-matrix', 'plm']\n",
    ")\n",
    "df.reset_index(inplace=True)\n",
    "\n",
    "show_performance(\n",
    "    model, df, \n",
    "    save_path=f'/ix/djishnu/alw399/SLIDE_PLM/results/plm/{name}/{model_name}_{model.__class__.__name__}_performance_fdr{fdr}_thresh{thresh}.png'\n",
    ")"
   ]
  },
  {
   "cell_type": "markdown",
   "metadata": {},
   "source": [
    "### Examine genes"
   ]
  },
  {
   "cell_type": "code",
   "execution_count": null,
   "metadata": {},
   "outputs": [],
   "source": [
    "lf = 'Z98'\n",
    "\n",
    "df= pd.read_csv(f'{slide_outs}/feature_list_{lf}.txt', sep='\\t')   \n",
    "red_genes = df[df['color'] == 'Red']['names'].values\n",
    "blue_genes = df[df['color'] == 'Blue']['names'].values\n",
    "\n",
    "print(red_genes)\n",
    "print(blue_genes)"
   ]
  },
  {
   "cell_type": "code",
   "execution_count": null,
   "metadata": {},
   "outputs": [],
   "source": [
    "red_text = '''Name: Immune Response Modulation and Cell Survival\n",
    "LLM self-assessed confidence: Medium\n",
    "\n",
    "1. **COL6A1** is a component of collagen VI, which is involved in the structural integrity of tissues and can influence immune cell migration and tissue repair processes.\n",
    "\n",
    "2. **MCL1** is an anti-apoptotic member of the Bcl-2 family, playing a crucial role in cell survival, particularly in immune cells, by inhibiting apoptosis.\n",
    "\n",
    "3. **CD7** is a transmembrane protein expressed on T cells and natural killer (NK) cells, involved in T-cell activation and interaction with other immune cells.\n",
    "\n",
    "4. **NCR3** (also known as NKp30) is an activating receptor on NK cells, playing a role in the recognition and destruction of tumor cells and infected cells.\n",
    "\n",
    "5. **CD99** is involved in leukocyte migration and T-cell adhesion, contributing to immune surveillance and response.\n",
    "\n",
    "6. **DUSP2** is a dual-specificity phosphatase that negatively regulates MAPK signaling pathways, modulating immune responses and inflammation.\n",
    "\n",
    "7. **LYAR** is a nucleolar protein involved in cell proliferation and may influence immune cell development and function.\n",
    "\n",
    "8. **KLRD1** (CD94) is part of the receptor complex on NK cells that recognizes HLA-E molecules, modulating NK cell activity and immune response.\n",
    "\n",
    "9. **IFITM2** is part of the interferon-induced transmembrane protein family, contributing to antiviral defense by inhibiting viral entry into host cells.\n",
    "\n",
    "10. **S100A4** is involved in cell motility and metastasis, and can modulate immune responses and inflammation.\n",
    "\n",
    "11. **IL2RB** is a component of the interleukin-2 receptor, crucial for T-cell proliferation and survival, playing a significant role in immune regulation.\n",
    "\n",
    "12. **IL32** is a cytokine that can induce the production of other cytokines, such as TNF-alpha and IL-6, and is involved in inflammatory responses.\n",
    "\n",
    "The proteins in this system are primarily involved in modulating immune responses and ensuring cell survival, particularly within the context of immune cell function. They interact to regulate immune cell activation, proliferation, and apoptosis, contributing to both innate and adaptive immune responses.\n",
    "\n",
    "'''\n",
    "\n",
    "blue_text = '''\n",
    "Name: Protein modification and cellular signaling\n",
    "LLM self-assessed confidence: Medium\n",
    "\n",
    "1. **P3H1 (Prolyl 3-hydroxylase 1)** is involved in the post-translational modification of collagen, specifically hydroxylation of proline residues, which is crucial for collagen stability and function. This modification is essential for proper collagen folding and assembly, impacting extracellular matrix integrity.\n",
    "\n",
    "2. **BCAS3 (Breast Carcinoma Amplified Sequence 3)** is implicated in angiogenesis and cellular migration. It interacts with cytoskeletal components and signaling pathways, influencing cell shape and movement, which are vital for vascular development and repair processes.\n",
    "\n",
    "3. **STYK1 (Serine/Threonine/Tyrosine Kinase 1)** is a non-receptor kinase involved in signal transduction pathways. It plays a role in cell proliferation and survival, often associated with oncogenic processes. Its kinase activity can modulate various downstream signaling cascades.\n",
    "\n",
    "4. **KLHDC1 (Kelch Domain Containing 1)** is less characterized but is thought to be involved in protein-protein interactions and may play a role in ubiquitination processes, impacting protein degradation and turnover.\n",
    "\n",
    "5. **FGL2 (Fibrinogen-like 2)** functions in immune regulation and coagulation. It can act as a prothrombinase, contributing to fibrin formation and immune responses, particularly in inflammatory and thrombotic conditions.\n",
    "\n",
    "6. **SELENOO (Selenoprotein O)** is involved in redox homeostasis and mitochondrial function. It participates in antioxidant defense mechanisms and may influence cellular stress responses through its selenoprotein activity.\n",
    "\n",
    "7. **RHBDF2 (Rhomboid 5 Homolog 2)** is involved in the regulation of epidermal growth factor receptor (EGFR) signaling. It modulates the release of growth factors, impacting cell proliferation and differentiation.\n",
    "\n",
    "8. **RMRP (RNA Component of Mitochondrial RNA Processing Endoribonuclease)** is a non-coding RNA involved in mitochondrial RNA processing and ribonucleoprotein complex formation, influencing mitochondrial function and cellular energy metabolism.\n",
    "\n",
    "The proteins in this system are primarily involved in processes related to protein modification, cellular signaling, and structural integrity. They contribute to various cellular functions, including post-translational modifications, signal transduction, and cellular stress responses, which are crucial for maintaining cellular homeostasis and responding to environmental changes.\n",
    "\n",
    "'''"
   ]
  },
  {
   "cell_type": "code",
   "execution_count": null,
   "metadata": {},
   "outputs": [],
   "source": [
    "from wordcloud import WordCloud\n",
    "import matplotlib.pyplot as plt\n",
    "from collections import Counter\n",
    "\n",
    "red_words = Counter([word.strip('.,*()').lower() for word in red_text.split()])\n",
    "blue_words = Counter([word.strip('.,*()').lower() for word in blue_text.split()])\n",
    "\n",
    "combined_words = red_words + blue_words\n",
    "ignore_words = [\n",
    "    'the', 'and', 'is', 'of', 'or', 'in', 'to', 'a', 'for', 'on', 'that', 'this',\n",
    "    'as', 'with', 'by', 'an', 'which', 'system', 'playing', 'cell', 'cells', 'related',\n",
    "    'protein', 'proteins', 'involved', 'crucial', 'responses', 'medium', 'they', 'such'\n",
    "    'essential', 'its', 'confidence:', 'facilitating', 'influence', 'also', 'these',\n",
    "    'role', 'can', 'may', 'cellular',  'during', 'processes', 'function', 'self-assessed',\n",
    "    'contributing', 'llm', '1', '2', '3', '4', '5', '6', '7', '8', '9', '10', '11', '12',\n",
    "    'other', 'are', 'indirectly', 'mrna', 'through', 'such', 'name:', 'help', 'not', 'roles',\n",
    "    'however', 'important', 'prevents', 'gene', 'response', 'part', 'primarily', 'influence',\n",
    "    'have', 'expressed', 'self-assessed', 'mechanisms', 'while', 'natural', 'critical', \n",
    "    'including', 'component', 'known', 'facilitates', 'less', 'well-characterized', 'context',\n",
    "    'various', 'overall', 'contribute', 'functions', 'their', 'influencing', 'expression',\n",
    "    'particularly', 'plays'\n",
    "]\n",
    "combined_words = {word: count for word, count in combined_words.items() if word.lower() not in ignore_words}\n",
    "\n",
    "def color_func(word, **kwargs):\n",
    "    if word in red_words and word in blue_words:\n",
    "        return \"purple\"\n",
    "    elif word in red_words:\n",
    "        return \"red\"\n",
    "    elif word in blue_words:\n",
    "        return \"blue\"\n",
    "    return \"black\"\n",
    "\n",
    "wordcloud = WordCloud(width=800, height=400, background_color='white').generate_from_frequencies(combined_words)\n",
    "wordcloud.recolor(color_func=color_func)\n",
    "\n",
    "plt.figure(figsize=(10, 5), dpi=500)\n",
    "plt.imshow(wordcloud, interpolation='bilinear')\n",
    "plt.axis('off')\n",
    "plt.title(f'{lf} word cloud')\n",
    "plt.show()"
   ]
  },
  {
   "cell_type": "code",
   "execution_count": null,
   "metadata": {},
   "outputs": [],
   "source": []
  },
  {
   "cell_type": "markdown",
   "metadata": {},
   "source": [
    "### Compare CONGA"
   ]
  },
  {
   "cell_type": "code",
   "execution_count": null,
   "metadata": {},
   "outputs": [],
   "source": [
    "stop!"
   ]
  },
  {
   "cell_type": "code",
   "execution_count": null,
   "metadata": {},
   "outputs": [],
   "source": []
  },
  {
   "cell_type": "code",
   "execution_count": null,
   "metadata": {},
   "outputs": [],
   "source": [
    "fdr = 0.2\n",
    "thresh = 0.8\n",
    "n_iters = 20\n",
    "\n",
    "# Use joint_embedding\n",
    "joint_embed = np.load(f'/ix/djishnu/alw399/SLIDE_PLM/results/plm/{name}/{model_name}_joint_embed_fdr{fdr}_iters{n_iters}_thresh_{thresh}.npy')\n",
    "joint_embed.shape"
   ]
  },
  {
   "cell_type": "code",
   "execution_count": null,
   "metadata": {},
   "outputs": [],
   "source": [
    "adata.obs['clusters_gex'] = adata.obs['clusters_gex'].astype('category')\n",
    "adata.obs['clusters_tcr'] = adata.obs['clusters_tcr'].astype('category')\n",
    "adata.obs['conga_scores_significant'] = np.where(adata.obs['conga_scores'] <= 1, 1, 0)\n",
    "\n",
    "adata.obsm['X_umap'] = adata.obsm['X_umap_gex']\n",
    "sc.pl.umap(adata, color=['conga_scores_significant', 'clusters_gex', 'clusters_tcr'])"
   ]
  },
  {
   "cell_type": "code",
   "execution_count": null,
   "metadata": {},
   "outputs": [],
   "source": [
    "adata.obsm['X_umap'] = adata.obsm['X_umap_tcr']\n",
    "sc.pl.umap(adata, color=['conga_scores_significant', 'clusters_gex', 'clusters_tcr'])"
   ]
  },
  {
   "cell_type": "code",
   "execution_count": null,
   "metadata": {},
   "outputs": [],
   "source": []
  },
  {
   "cell_type": "code",
   "execution_count": null,
   "metadata": {},
   "outputs": [],
   "source": [
    "embed_data = sc.AnnData(joint_embed)\n",
    "embed_data.obs['y'] = y\n",
    "embed_data.obs['y'] = embed_data.obs['y'].astype('category')\n",
    "\n",
    "embed_data.obs['conga_gex_clusters'] = adata.obs['clusters_gex'].values\n",
    "embed_data.obs['conga_gex_clusters'] = embed_data.obs['conga_gex_clusters'].astype('category')\n",
    "embed_data.obs['conga_scores'] = adata.obs['conga_scores'].values\n",
    "embed_data.obs['conga_scores_significant'] = adata.obs['conga_scores_significant'].values\n",
    "\n",
    "sc.pp.neighbors(embed_data)\n",
    "sc.tl.pca(embed_data)\n",
    "sc.tl.umap(embed_data)\n",
    "sc.tl.leiden(embed_data)"
   ]
  },
  {
   "cell_type": "code",
   "execution_count": null,
   "metadata": {},
   "outputs": [],
   "source": [
    "from tqdm import tqdm\n",
    "from models import Estimator\n",
    "from sklearn.linear_model import Lasso, LinearRegression\n",
    "\n",
    "performance = {}\n",
    "model = LinearRegression()\n",
    "estimator = Estimator(model=model)\n",
    "\n",
    "\n",
    "for cluster in tqdm(embed_data.obs['conga_gex_clusters'].unique()):\n",
    "\n",
    "    cluster_data = embed_data[embed_data.obs['conga_gex_clusters'] != cluster]\n",
    "\n",
    "    y_cluster = cluster_data.obs['y'].values\n",
    "    X_cluster = cluster_data.X\n",
    "\n",
    "    auc = estimator.evaluate(X_cluster, y_cluster, n_iters=30)\n",
    "    performance[cluster] = auc"
   ]
  },
  {
   "cell_type": "code",
   "execution_count": null,
   "metadata": {},
   "outputs": [],
   "source": [
    "aucs = pd.DataFrame(performance).T\n",
    "aucs.rename(columns={i: f'iter_{i}' for i in range(len(aucs.columns))}, inplace=True)\n",
    "aucs['mean'] = aucs.mean(axis=1, skipna=True)\n",
    "aucs['std'] = aucs.std(axis=1, skipna=True)\n",
    "aucs.sort_values('mean')"
   ]
  },
  {
   "cell_type": "code",
   "execution_count": null,
   "metadata": {},
   "outputs": [],
   "source": [
    "import seaborn as sns \n",
    "import matplotlib.pyplot as plt\n",
    "\n",
    "# aucs.drop(columns=['mean', 'std'], inplace=True)\n",
    "df = aucs.melt(id_vars='index', var_name='iter', value_name='auc')\n",
    "\n",
    "fig, ax = plt.subplots(figsize=(10,4), dpi=150)\n",
    "order = np.unique(df['index'])\n",
    "\n",
    "sns.boxplot(data=df, x='index', y='auc', hue='index', palette='hls', ax=ax, legend=False, showfliers=False, order=order)\n",
    "sns.stripplot(data=df, x='index', y='auc', hue='index', ax=ax, palette='hls', legend=False, linewidth=1, edgecolor='black', jitter=True)\n",
    "ax.set_xlabel('cluster')\n",
    "plt.title('Linear Regression with Joint Embedding when CONGA Cluster is Omitted')\n"
   ]
  },
  {
   "cell_type": "code",
   "execution_count": null,
   "metadata": {},
   "outputs": [],
   "source": [
    "sc.pl.pca(embed_data, color=['y', 'leiden', 'conga_gex_clusters', 'conga_scores_significant'])\n",
    "sc.pl.umap(embed_data, color=['y', 'leiden', 'conga_gex_clusters', 'conga_scores_significant'])"
   ]
  },
  {
   "cell_type": "code",
   "execution_count": null,
   "metadata": {},
   "outputs": [],
   "source": []
  },
  {
   "cell_type": "code",
   "execution_count": null,
   "metadata": {},
   "outputs": [],
   "source": [
    "import matplotlib.pyplot as plt\n",
    "\n",
    "n_plots = (joint_embed.shape[1] + 1) // 2\n",
    "n_rows = (n_plots + 2 - 1) // 2 \n",
    "\n",
    "fig, axs = plt.subplots(2, n_rows, figsize=(20, n_rows * 4)) \n",
    "axs = axs.flatten()\n",
    "\n",
    "for i in range(0, joint_embed.shape[1], 2):\n",
    "    dim1 = joint_embed[:, i]\n",
    "    dim2 = joint_embed[:, i+1] if i+1 < joint_embed.shape[1] else joint_embed[:, i-1] \n",
    "    \n",
    "    axs[i//2].scatter(dim1, dim2, c=y, alpha=0.5, cmap='coolwarm', s=2)\n",
    "    axs[i//2].set_xlabel(f'joint embed {i}')\n",
    "    axs[i//2].set_ylabel(f'joint embed {i+1}' if i+1 < joint_embed.shape[1] else f'joint embed {i-1}')\n",
    "\n",
    "plt.suptitle('Separation of classes using joint embedding from Daniel\\'s model', fontsize=16)\n",
    "plt.tight_layout(rect=[0, 0.03, 1, 0.95])  \n",
    "plt.show()\n"
   ]
  },
  {
   "cell_type": "code",
   "execution_count": null,
   "metadata": {},
   "outputs": [],
   "source": []
  },
  {
   "cell_type": "code",
   "execution_count": null,
   "metadata": {},
   "outputs": [],
   "source": []
  }
 ],
 "metadata": {
  "kernelspec": {
   "display_name": "Python 3.10.0 (conda)",
   "language": "python",
   "name": "python3"
  },
  "language_info": {
   "codemirror_mode": {
    "name": "ipython",
    "version": 3
   },
   "file_extension": ".py",
   "mimetype": "text/x-python",
   "name": "python",
   "nbconvert_exporter": "python",
   "pygments_lexer": "ipython3",
   "version": "3.10.0"
  },
  "vscode": {
   "interpreter": {
    "hash": "55a140d1f33392e381d34bc5da6a3d410b47b7a9f3eef28b092f77090f51c685"
   }
  }
 },
 "nbformat": 4,
 "nbformat_minor": 2
}
