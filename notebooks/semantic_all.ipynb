{
 "cells": [
  {
   "cell_type": "code",
   "execution_count": null,
   "metadata": {},
   "outputs": [],
   "source": [
    "%load_ext autoreload\n",
    "%autoreload 2"
   ]
  },
  {
   "cell_type": "code",
   "execution_count": null,
   "metadata": {},
   "outputs": [],
   "source": [
    "import numpy as np \n",
    "import pandas as pd \n",
    "import scanpy as sc\n",
    "\n",
    "import matplotlib.pyplot as plt \n",
    "import seaborn as sns"
   ]
  },
  {
   "cell_type": "code",
   "execution_count": null,
   "metadata": {},
   "outputs": [],
   "source": [
    "import sys, os\n",
    "sys.path.append('../src')\n",
    "\n",
    "# from interaction import Interaction\n",
    "from util import compute_auc"
   ]
  },
  {
   "cell_type": "code",
   "execution_count": null,
   "metadata": {},
   "outputs": [],
   "source": [
    "# # JING CLONAL EXPANSION\n",
    "# x_path = '/ix/djishnu/Jane/SLIDESWING/jing_data/KIR+TEDDY/data/KIR+TEDDY_rna_filtered85.csv'\n",
    "# y_path = '/ix/djishnu/Jane/SLIDESWING/jing_data/KIR+TEDDY/data/KIR+TEDDY_Yexpanded_filtered85.csv'\n",
    "# slide_outs = '/ix/djishnu/Jane/SLIDESWING/jing_data/KIR+TEDDY/KIR+TEDDY_filtered85/KIR+TEDDY_filtered85_noint_output/0.01_0.5_out'\n",
    "# y = pd.read_csv(y_path)['Y'].values\n",
    "\n",
    "# JING TUMOR TIL VS TEMRA\n",
    "x_path = '/ix/djishnu/alw399/SLIDE_PLM/data/jing_tumor/tumor_x2.csv'\n",
    "y_path = '/ix/djishnu/alw399/SLIDE_PLM/data/jing_tumor/tumor_y2.csv'\n",
    "slide_outs = '/ix/djishnu/alw399/SLIDE_PLM/data/jing_tumor/0.05_0.5_out'\n",
    "y = pd.read_csv(y_path)['y'].values\n",
    "\n",
    "# # ALOK ANTIGEN SPECIFICITY \n",
    "# x_path = '/ix/djishnu/Jane/SLIDESWING/alok_data/data/Ins1_InsChg2_rna_MRfilt_forSLIDE.csv'\n",
    "# y_path = '/ix/djishnu/Jane/SLIDESWING/alok_data/data/Ins1_InsChg2_rna_MRfilt_antigens.csv'\n",
    "# slide_outs = '/ix/djishnu/Jane/SLIDESWING/alok_data/alok_data12_MRfilt_noint_out/0.01_2_out'\n",
    "# y = pd.read_csv(y_path)['Antigen'].values - 1 \n"
   ]
  },
  {
   "cell_type": "code",
   "execution_count": null,
   "metadata": {},
   "outputs": [],
   "source": [
    "from util import get_genes_from_slide_outs\n",
    "\n",
    "lf_dict = get_genes_from_slide_outs(slide_outs)\n",
    "lf_dict.keys()"
   ]
  },
  {
   "cell_type": "code",
   "execution_count": null,
   "metadata": {},
   "outputs": [],
   "source": [
    "all_genes = np.unique(np.concatenate([lf_dict[lf] for lf in lf_dict]))\n",
    "len(all_genes)"
   ]
  },
  {
   "cell_type": "code",
   "execution_count": null,
   "metadata": {},
   "outputs": [],
   "source": [
    "from genept import GenePTEmbedder\n",
    "\n",
    "genept = GenePTEmbedder(species='human')\n",
    "gene_embeddings = genept.get_gene_info(all_genes)\n",
    "gene_embeddings.shape"
   ]
  },
  {
   "cell_type": "code",
   "execution_count": null,
   "metadata": {},
   "outputs": [],
   "source": [
    "# Create 0, 1 presence/absence matrix\n",
    "\n",
    "gex_df = pd.read_csv(x_path, usecols=list(all_genes))\n",
    "gex_threshes = gex_df.mean(axis=0)\n",
    "\n",
    "mask_df = pd.DataFrame(\n",
    "    np.where(gex_df > gex_threshes, 1, 0), \n",
    "    index=gex_df.index, \n",
    "    columns=gex_df.columns\n",
    ")\n",
    "\n",
    "mask_df.shape"
   ]
  },
  {
   "cell_type": "code",
   "execution_count": null,
   "metadata": {},
   "outputs": [],
   "source": [
    "genept_df = np.einsum('ij,jk->ijk', mask_df.values, gene_embeddings)\n",
    "\n",
    "genept_df = genept_df.reshape(gex_df.shape[0], -1)\n",
    "genept_df.shape"
   ]
  },
  {
   "cell_type": "code",
   "execution_count": null,
   "metadata": {},
   "outputs": [],
   "source": [
    "wgenept_df = gex_df @ gene_embeddings\n",
    "wgenept_df.shape"
   ]
  },
  {
   "cell_type": "code",
   "execution_count": null,
   "metadata": {},
   "outputs": [],
   "source": [
    "z_matrix = pd.read_csv(os.path.join(slide_outs, 'z_matrix.csv'), index_col=0)\n",
    "z_matrix = z_matrix[list(lf_dict.keys())].values\n",
    "z_matrix.shape"
   ]
  },
  {
   "cell_type": "code",
   "execution_count": null,
   "metadata": {},
   "outputs": [],
   "source": [
    "from models import Estimator\n",
    "from sklearn.linear_model import Lasso, LinearRegression\n",
    "from sklearn.neural_network import MLPClassifier\n",
    "\n",
    "\n",
    "a=0.1\n",
    "model = Lasso(alpha=a, max_iter=1000)\n",
    "\n",
    "# model = LinearRegression()\n",
    "\n",
    "# model = MLPClassifier(max_iter=1000)"
   ]
  },
  {
   "cell_type": "code",
   "execution_count": null,
   "metadata": {},
   "outputs": [],
   "source": [
    "# SLIDE z-matrix performance\n",
    "lasso0 = Estimator(model=model)\n",
    "auc0 = lasso0.evaluate(z_matrix, y)\n",
    "\n",
    "# Lasso regression on LF gene expression matrix\n",
    "lasso1 = Estimator(model=model)\n",
    "auc1 = lasso0.evaluate(gex_df.values, y)\n",
    "\n",
    "# Lasso regression on mean-thresholded gene expression\n",
    "lasso2 = Estimator(model=model)\n",
    "auc2 = lasso2.evaluate(mask_df.values, y)\n",
    "\n",
    "# Lasso regression on semantic embeddings\n",
    "lasso3 = Estimator(model=model)\n",
    "auc3 = lasso3.evaluate(genept_df, y)\n",
    "\n",
    "# Lasso regression on weighted semantic embeddings\n",
    "lasso4 = Estimator(model=model)\n",
    "auc4 = lasso3.evaluate(wgenept_df.values, y)"
   ]
  },
  {
   "cell_type": "code",
   "execution_count": null,
   "metadata": {},
   "outputs": [],
   "source": [
    "df = pd.DataFrame(\n",
    "    np.vstack([auc0, auc1, auc2, auc3, auc4]),\n",
    "    index=['z-matrix', 'gex', 'mask_gex', 'genept', 'wgenept']\n",
    ")\n",
    "df.reset_index(inplace=True)\n",
    "df = df.melt(id_vars='index', var_name='iter', value_name='auc')"
   ]
  },
  {
   "cell_type": "code",
   "execution_count": null,
   "metadata": {},
   "outputs": [],
   "source": [
    "def filter_pairs(pairs, df):\n",
    "    filtered = []\n",
    "    for i, j in pairs:\n",
    "        if not np.all(df[df['index'] == i]['auc'].values == df[df['index'] == j]['auc'].values):\n",
    "            filtered.append((i, j))\n",
    "    return filtered\n"
   ]
  },
  {
   "cell_type": "code",
   "execution_count": null,
   "metadata": {},
   "outputs": [],
   "source": [
    "import seaborn as sns \n",
    "import matplotlib.pyplot as plt \n",
    "from statannotations.Annotator import Annotator\n",
    "import itertools \n",
    "\n",
    "fig, ax = plt.subplots(figsize=(10,10), dpi=150)\n",
    "\n",
    "sns.boxplot(data=df, x='index', y='auc', hue='index', palette='hls', ax=ax, showfliers=False, order=np.unique(df['index']))\n",
    "sns.stripplot(data=df, x='index', y='auc', hue='index', ax=ax, palette='hls', legend=False, linewidth=1, edgecolor='black', jitter=True)\n",
    "\n",
    "pairs=list(itertools.combinations(np.unique(df['index']), 2))\n",
    "pairs = filter_pairs(pairs, df)\n",
    "\n",
    "annotator = Annotator(ax, pairs, data=df, x='index', y='auc', order=np.unique(df['index']))\n",
    "annotator.configure(test='Kruskal', text_format='star', loc='inside', verbose=2, hide_non_significant=True)\n",
    "annotator.apply_and_annotate()\n",
    "\n",
    "means = df.groupby('index')['auc'].mean()\n",
    "for i, mean in zip(means.index, means):\n",
    "    plt.text(i, df['auc'].max()+0.001 , f'Mean: {mean:.2f}', ha='center', va='bottom', fontsize=8, color='black')\n",
    "\n",
    "plt.title(f'{model.__class__.__name__} Performance')\n",
    "plt.tight_layout()"
   ]
  },
  {
   "cell_type": "code",
   "execution_count": null,
   "metadata": {},
   "outputs": [],
   "source": [
    "# with open(os.path.join(slide_outs, 'standard_out.txt'), 'r') as f:\n",
    "#     standard_out = f.readlines()\n",
    "# slide_auc = standard_out[-1].split(' ')[-2]\n",
    "\n",
    "# # slide_auc = '0.951218206396577'\n",
    "# # slide_auc = '0.747932'"
   ]
  },
  {
   "cell_type": "code",
   "execution_count": null,
   "metadata": {},
   "outputs": [],
   "source": [
    "# pd.DataFrame({\n",
    "#     'slide': slide_auc[:8],\n",
    "#     'z_matrix': auc0,\n",
    "#     'gex': auc1,\n",
    "#     'mask_gex': auc2,\n",
    "#     'wgenept': auc3\n",
    "# }, index=['auc']).T\n"
   ]
  },
  {
   "cell_type": "code",
   "execution_count": null,
   "metadata": {},
   "outputs": [],
   "source": []
  },
  {
   "cell_type": "code",
   "execution_count": null,
   "metadata": {},
   "outputs": [],
   "source": []
  },
  {
   "cell_type": "code",
   "execution_count": null,
   "metadata": {},
   "outputs": [],
   "source": []
  }
 ],
 "metadata": {
  "kernelspec": {
   "display_name": "Python 3",
   "language": "python",
   "name": "python3"
  },
  "language_info": {
   "codemirror_mode": {
    "name": "ipython",
    "version": 3
   },
   "file_extension": ".py",
   "mimetype": "text/x-python",
   "name": "python",
   "nbconvert_exporter": "python",
   "pygments_lexer": "ipython3",
   "version": "3.10.16"
  }
 },
 "nbformat": 4,
 "nbformat_minor": 2
}
