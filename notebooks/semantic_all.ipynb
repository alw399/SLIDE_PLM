{
 "cells": [
  {
   "cell_type": "code",
   "execution_count": 1,
   "metadata": {},
   "outputs": [],
   "source": [
    "%load_ext autoreload\n",
    "%autoreload 2"
   ]
  },
  {
   "cell_type": "code",
   "execution_count": 2,
   "metadata": {},
   "outputs": [],
   "source": [
    "import numpy as np \n",
    "import pandas as pd \n",
    "import scanpy as sc\n",
    "\n",
    "import matplotlib.pyplot as plt \n",
    "import seaborn as sns"
   ]
  },
  {
   "cell_type": "code",
   "execution_count": 3,
   "metadata": {},
   "outputs": [],
   "source": [
    "import sys, os\n",
    "sys.path.append('../src')\n",
    "\n",
    "# from interaction import Interaction\n",
    "from util import compute_auc"
   ]
  },
  {
   "cell_type": "code",
   "execution_count": 4,
   "metadata": {},
   "outputs": [],
   "source": [
    "# # JING CLONAL EXPANSION\n",
    "# x_path = '/ix/djishnu/Jane/SLIDESWING/jing_data/KIR+TEDDY/data/KIR+TEDDY_rna_filtered85.csv'\n",
    "# y_path = '/ix/djishnu/Jane/SLIDESWING/jing_data/KIR+TEDDY/data/KIR+TEDDY_Yexpanded_filtered85.csv'\n",
    "# slide_outs = '/ix/djishnu/Jane/SLIDESWING/jing_data/KIR+TEDDY/KIR+TEDDY_filtered85/KIR+TEDDY_filtered85_noint_output/0.01_0.5_out'\n",
    "# y = pd.read_csv(y_path)['Y'].values\n",
    "\n",
    "# JING TUMOR TIL VS TEMRA\n",
    "x_path = '/ix/djishnu/alw399/SLIDE_PLM/data/jing_tumor/tumor_x2.csv'\n",
    "y_path = '/ix/djishnu/alw399/SLIDE_PLM/data/jing_tumor/tumor_y2.csv'\n",
    "slide_outs = '/ix/djishnu/alw399/SLIDE_PLM/data/jing_tumor/0.05_0.5_out'\n",
    "y = pd.read_csv(y_path)['y'].values\n",
    "\n",
    "# # ALOK ANTIGEN SPECIFICITY \n",
    "# x_path = '/ix/djishnu/Jane/SLIDESWING/alok_data/data/Ins1_InsChg2_rna_MRfilt_forSLIDE.csv'\n",
    "# y_path = '/ix/djishnu/Jane/SLIDESWING/alok_data/data/Ins1_InsChg2_rna_MRfilt_antigens.csv'\n",
    "# slide_outs = '/ix/djishnu/Jane/SLIDESWING/alok_data/alok_data12_MRfilt_noint_out/0.01_2_out'\n",
    "# y = pd.read_csv(y_path)['Antigen'].values - 1 \n"
   ]
  },
  {
   "cell_type": "code",
   "execution_count": 5,
   "metadata": {},
   "outputs": [
    {
     "data": {
      "text/plain": [
       "dict_keys(['Z17', 'Z24', 'Z7'])"
      ]
     },
     "execution_count": 5,
     "metadata": {},
     "output_type": "execute_result"
    }
   ],
   "source": [
    "from util import get_genes_from_slide_outs\n",
    "\n",
    "lf_dict = get_genes_from_slide_outs(slide_outs)\n",
    "lf_dict.keys()"
   ]
  },
  {
   "cell_type": "code",
   "execution_count": 6,
   "metadata": {},
   "outputs": [
    {
     "data": {
      "text/plain": [
       "82"
      ]
     },
     "execution_count": 6,
     "metadata": {},
     "output_type": "execute_result"
    }
   ],
   "source": [
    "all_genes = np.unique(np.concatenate([lf_dict[lf] for lf in lf_dict]))\n",
    "len(all_genes)"
   ]
  },
  {
   "cell_type": "code",
   "execution_count": 7,
   "metadata": {},
   "outputs": [
    {
     "name": "stdout",
     "output_type": "stream",
     "text": [
      "Found 81/82 embeddings\n"
     ]
    },
    {
     "data": {
      "text/plain": [
       "(82, 1536)"
      ]
     },
     "execution_count": 7,
     "metadata": {},
     "output_type": "execute_result"
    }
   ],
   "source": [
    "from genept import GenePTEmbedder\n",
    "\n",
    "genept = GenePTEmbedder(species='human')\n",
    "gene_embeddings = genept.get_gene_info(all_genes)\n",
    "gene_embeddings.shape"
   ]
  },
  {
   "cell_type": "code",
   "execution_count": 8,
   "metadata": {},
   "outputs": [
    {
     "data": {
      "text/plain": [
       "(3859, 82)"
      ]
     },
     "execution_count": 8,
     "metadata": {},
     "output_type": "execute_result"
    }
   ],
   "source": [
    "# Create 0, 1 presence/absence matrix\n",
    "\n",
    "gex_df = pd.read_csv(x_path, usecols=list(all_genes))\n",
    "gex_threshes = gex_df.mean(axis=0)\n",
    "\n",
    "mask_df = pd.DataFrame(\n",
    "    np.where(gex_df > gex_threshes, 1, 0), \n",
    "    index=gex_df.index, \n",
    "    columns=gex_df.columns\n",
    ")\n",
    "\n",
    "mask_df.shape"
   ]
  },
  {
   "cell_type": "code",
   "execution_count": 10,
   "metadata": {},
   "outputs": [
    {
     "data": {
      "text/plain": [
       "(3859, 125952)"
      ]
     },
     "execution_count": 10,
     "metadata": {},
     "output_type": "execute_result"
    }
   ],
   "source": [
    "genept_df = np.einsum('ij,jk->ijk', mask_df.values, gene_embeddings)\n",
    "\n",
    "genept_df = genept_df.reshape(gex_df.shape[0], -1)\n",
    "genept_df.shape"
   ]
  },
  {
   "cell_type": "code",
   "execution_count": 14,
   "metadata": {},
   "outputs": [
    {
     "data": {
      "text/plain": [
       "(3859, 1536)"
      ]
     },
     "execution_count": 14,
     "metadata": {},
     "output_type": "execute_result"
    }
   ],
   "source": [
    "wgenept_df = gex_df @ gene_embeddings\n",
    "wgenept_df.shape"
   ]
  },
  {
   "cell_type": "code",
   "execution_count": 15,
   "metadata": {},
   "outputs": [
    {
     "data": {
      "text/plain": [
       "(3859, 3)"
      ]
     },
     "execution_count": 15,
     "metadata": {},
     "output_type": "execute_result"
    }
   ],
   "source": [
    "z_matrix = pd.read_csv(os.path.join(slide_outs, 'z_matrix.csv'), index_col=0)\n",
    "z_matrix = z_matrix[list(lf_dict.keys())].values\n",
    "z_matrix.shape"
   ]
  },
  {
   "cell_type": "code",
   "execution_count": 27,
   "metadata": {},
   "outputs": [
    {
     "data": {
      "text/html": [
       "<div>\n",
       "<style scoped>\n",
       "    .dataframe tbody tr th:only-of-type {\n",
       "        vertical-align: middle;\n",
       "    }\n",
       "\n",
       "    .dataframe tbody tr th {\n",
       "        vertical-align: top;\n",
       "    }\n",
       "\n",
       "    .dataframe thead th {\n",
       "        text-align: right;\n",
       "    }\n",
       "</style>\n",
       "<table border=\"1\" class=\"dataframe\">\n",
       "  <thead>\n",
       "    <tr style=\"text-align: right;\">\n",
       "      <th></th>\n",
       "      <th>DataFrame</th>\n",
       "      <th>Average Values</th>\n",
       "      <th>StandardScaler</th>\n",
       "      <th>MinMaxScaler</th>\n",
       "    </tr>\n",
       "  </thead>\n",
       "  <tbody>\n",
       "    <tr>\n",
       "      <th>0</th>\n",
       "      <td>mask_df</td>\n",
       "      <td>0.381105</td>\n",
       "      <td>0.957661</td>\n",
       "      <td>1.000000</td>\n",
       "    </tr>\n",
       "    <tr>\n",
       "      <th>1</th>\n",
       "      <td>gex_df</td>\n",
       "      <td>2.625687</td>\n",
       "      <td>0.750747</td>\n",
       "      <td>0.819833</td>\n",
       "    </tr>\n",
       "    <tr>\n",
       "      <th>2</th>\n",
       "      <td>wgenept_df</td>\n",
       "      <td>3.415635</td>\n",
       "      <td>0.706863</td>\n",
       "      <td>0.554084</td>\n",
       "    </tr>\n",
       "    <tr>\n",
       "      <th>3</th>\n",
       "      <td>genept_df</td>\n",
       "      <td>0.011097</td>\n",
       "      <td>0.957661</td>\n",
       "      <td>1.000000</td>\n",
       "    </tr>\n",
       "    <tr>\n",
       "      <th>4</th>\n",
       "      <td>z_matrix</td>\n",
       "      <td>0.694272</td>\n",
       "      <td>0.757132</td>\n",
       "      <td>0.572381</td>\n",
       "    </tr>\n",
       "  </tbody>\n",
       "</table>\n",
       "</div>"
      ],
      "text/plain": [
       "    DataFrame  Average Values  StandardScaler  MinMaxScaler\n",
       "0     mask_df        0.381105        0.957661      1.000000\n",
       "1      gex_df        2.625687        0.750747      0.819833\n",
       "2  wgenept_df        3.415635        0.706863      0.554084\n",
       "3   genept_df        0.011097        0.957661      1.000000\n",
       "4    z_matrix        0.694272        0.757132      0.572381"
      ]
     },
     "execution_count": 27,
     "metadata": {},
     "output_type": "execute_result"
    }
   ],
   "source": [
    "from collections import defaultdict\n",
    "\n",
    "dfs = {\n",
    "    \"mask_df\": mask_df,\n",
    "    \"gex_df\": gex_df,\n",
    "    \"wgenept_df\": wgenept_df,\n",
    "    \"genept_df\": genept_df,\n",
    "    \"z_matrix\": z_matrix\n",
    "}\n",
    "\n",
    "values = defaultdict(list)\n",
    "\n",
    "for name, df in dfs.items():\n",
    "    avg_val = np.mean(abs(df))\n",
    "    scaled_val = np.mean(abs(Estimator.scale_features(df)))\n",
    "    minmax = np.mean(abs(Estimator.scale_features(df, minmax=True)))\n",
    "\n",
    "    values['raw'].append(avg_val)\n",
    "    values['standard'].append(scaled_val)\n",
    "    values['minmax'].append(minmax)\n",
    "\n",
    "pd.DataFrame({\n",
    "    'DataFrame': list(dfs.keys()),\n",
    "    'Average Values': values['raw'],\n",
    "    'StandardScaler': values['standard'], \n",
    "    'MinMaxScaler': values['minmax']\n",
    "})\n"
   ]
  },
  {
   "cell_type": "code",
   "execution_count": null,
   "metadata": {},
   "outputs": [],
   "source": [
    "from models import Estimator\n",
    "from sklearn.linear_model import Lasso, LinearRegression\n",
    "from sklearn.neural_network import MLPClassifier\n",
    "\n",
    "\n",
    "a=0.1\n",
    "model = Lasso(alpha=a, max_iter=1000)\n",
    "\n",
    "# model = LinearRegression()\n",
    "\n",
    "# model = MLPClassifier(max_iter=1000)"
   ]
  },
  {
   "cell_type": "code",
   "execution_count": null,
   "metadata": {},
   "outputs": [],
   "source": [
    "# SLIDE z-matrix performance\n",
    "lasso0 = Estimator(model=model)\n",
    "auc0 = lasso0.evaluate(z_matrix, y)\n",
    "\n",
    "# Lasso regression on LF gene expression matrix\n",
    "lasso1 = Estimator(model=model)\n",
    "auc1 = lasso0.evaluate(gex_df.values, y)\n",
    "\n",
    "# Lasso regression on mean-thresholded gene expression\n",
    "lasso2 = Estimator(model=model)\n",
    "auc2 = lasso2.evaluate(mask_df.values, y)\n",
    "\n",
    "# Lasso regression on semantic embeddings\n",
    "lasso3 = Estimator(model=model)\n",
    "auc3 = lasso3.evaluate(genept_df, y)\n",
    "\n",
    "# Lasso regression on weighted semantic embeddings\n",
    "lasso4 = Estimator(model=model)\n",
    "auc4 = lasso3.evaluate(wgenept_df.values, y)"
   ]
  },
  {
   "cell_type": "code",
   "execution_count": null,
   "metadata": {},
   "outputs": [],
   "source": [
    "df = pd.DataFrame(\n",
    "    np.vstack([auc0, auc1, auc2, auc3, auc4]),\n",
    "    index=['z-matrix', 'gex', 'mask_gex', 'genept', 'wgenept']\n",
    ")\n",
    "df.reset_index(inplace=True)\n",
    "df = df.melt(id_vars='index', var_name='iter', value_name='auc')"
   ]
  },
  {
   "cell_type": "code",
   "execution_count": null,
   "metadata": {},
   "outputs": [],
   "source": [
    "def filter_pairs(pairs, df):\n",
    "    filtered = []\n",
    "    for i, j in pairs:\n",
    "        if not np.all(df[df['index'] == i]['auc'].values == df[df['index'] == j]['auc'].values):\n",
    "            filtered.append((i, j))\n",
    "    return filtered\n"
   ]
  },
  {
   "cell_type": "code",
   "execution_count": null,
   "metadata": {},
   "outputs": [],
   "source": [
    "import seaborn as sns \n",
    "import matplotlib.pyplot as plt \n",
    "from statannotations.Annotator import Annotator\n",
    "import itertools \n",
    "\n",
    "fig, ax = plt.subplots(figsize=(10,10), dpi=150)\n",
    "\n",
    "sns.boxplot(data=df, x='index', y='auc', hue='index', palette='hls', ax=ax, showfliers=False, order=np.unique(df['index']))\n",
    "sns.stripplot(data=df, x='index', y='auc', hue='index', ax=ax, palette='hls', legend=False, linewidth=1, edgecolor='black', jitter=True)\n",
    "\n",
    "pairs=list(itertools.combinations(np.unique(df['index']), 2))\n",
    "pairs = filter_pairs(pairs, df)\n",
    "\n",
    "annotator = Annotator(ax, pairs, data=df, x='index', y='auc', order=np.unique(df['index']))\n",
    "annotator.configure(test='Kruskal', text_format='star', loc='inside', verbose=2, hide_non_significant=True)\n",
    "annotator.apply_and_annotate()\n",
    "\n",
    "means = df.groupby('index')['auc'].mean()\n",
    "for i, mean in zip(means.index, means):\n",
    "    plt.text(i, df['auc'].max()+0.001 , f'Mean: {mean:.2f}', ha='center', va='bottom', fontsize=8, color='black')\n",
    "\n",
    "plt.title(f'{model.__class__.__name__} Performance')\n",
    "plt.tight_layout()"
   ]
  },
  {
   "cell_type": "code",
   "execution_count": null,
   "metadata": {},
   "outputs": [],
   "source": [
    "# with open(os.path.join(slide_outs, 'standard_out.txt'), 'r') as f:\n",
    "#     standard_out = f.readlines()\n",
    "# slide_auc = standard_out[-1].split(' ')[-2]\n",
    "\n",
    "# # slide_auc = '0.951218206396577'\n",
    "# # slide_auc = '0.747932'"
   ]
  },
  {
   "cell_type": "code",
   "execution_count": null,
   "metadata": {},
   "outputs": [],
   "source": [
    "# pd.DataFrame({\n",
    "#     'slide': slide_auc[:8],\n",
    "#     'z_matrix': auc0,\n",
    "#     'gex': auc1,\n",
    "#     'mask_gex': auc2,\n",
    "#     'wgenept': auc3\n",
    "# }, index=['auc']).T\n"
   ]
  },
  {
   "cell_type": "code",
   "execution_count": null,
   "metadata": {},
   "outputs": [],
   "source": []
  },
  {
   "cell_type": "code",
   "execution_count": null,
   "metadata": {},
   "outputs": [],
   "source": []
  },
  {
   "cell_type": "code",
   "execution_count": null,
   "metadata": {},
   "outputs": [],
   "source": []
  }
 ],
 "metadata": {
  "kernelspec": {
   "display_name": "turtle",
   "language": "python",
   "name": "python3"
  },
  "language_info": {
   "codemirror_mode": {
    "name": "ipython",
    "version": 3
   },
   "file_extension": ".py",
   "mimetype": "text/x-python",
   "name": "python",
   "nbconvert_exporter": "python",
   "pygments_lexer": "ipython3",
   "version": "3.10.16"
  }
 },
 "nbformat": 4,
 "nbformat_minor": 2
}
