{
 "cells": [
  {
   "cell_type": "code",
   "execution_count": null,
   "metadata": {},
   "outputs": [],
   "source": [
    "%load_ext autoreload\n",
    "%autoreload 2"
   ]
  },
  {
   "cell_type": "code",
   "execution_count": null,
   "metadata": {},
   "outputs": [],
   "source": [
    "import numpy as np \n",
    "import pandas as pd \n",
    "import scanpy as sc\n",
    "\n",
    "import matplotlib.pyplot as plt \n",
    "import seaborn as sns"
   ]
  },
  {
   "cell_type": "code",
   "execution_count": null,
   "metadata": {},
   "outputs": [],
   "source": [
    "import sys, os\n",
    "sys.path.append('../src')\n",
    "\n",
    "# from interaction import Interaction\n",
    "from util import compute_auc"
   ]
  },
  {
   "cell_type": "code",
   "execution_count": 164,
   "metadata": {},
   "outputs": [],
   "source": [
    "# # JING CLONAL EXPANSION\n",
    "# x_path = '/ix/djishnu/Jane/SLIDESWING/jing_data/KIR+TEDDY/data/KIR+TEDDY_rna_filtered85.csv'\n",
    "# y_path = '/ix/djishnu/Jane/SLIDESWING/jing_data/KIR+TEDDY/data/KIR+TEDDY_Yexpanded_filtered85.csv'\n",
    "# slide_outs = '/ix/djishnu/Jane/SLIDESWING/jing_data/KIR+TEDDY/KIR+TEDDY_filtered85/KIR+TEDDY_filtered85_noint_output/0.01_0.5_out'\n",
    "\n",
    "# # JING TUMOR TIL VS TEMRA\n",
    "# x_path = '/ix/djishnu/alw399/SLIDE_PLM/data/jing_tumor/tumor_x2.csv'\n",
    "# y_path = '/ix/djishnu/alw399/SLIDE_PLM/data/jing_tumor/tumor_y2.csv'\n",
    "# slide_outs = '/ix/djishnu/alw399/SLIDE_PLM/data/jing_tumor/0.05_0.5_out'\n",
    "\n",
    "# ALOK ANTIGEN SPECIFICITY \n",
    "x_path = '/ix/djishnu/Jane/SLIDESWING/alok_data/data/Ins1_InsChg2_rna_MRfilt_forSLIDE.csv'\n",
    "y_path = '/ix/djishnu/Jane/SLIDESWING/alok_data/data/Ins1_InsChg2_rna_MRfilt_antigens.csv'\n",
    "slide_outs = '/ix/djishnu/Jane/SLIDESWING/alok_data/alok_data12_MRfilt_noint_out/0.01_2_out'\n"
   ]
  },
  {
   "cell_type": "code",
   "execution_count": 165,
   "metadata": {},
   "outputs": [
    {
     "data": {
      "text/plain": [
       "(73,)"
      ]
     },
     "execution_count": 165,
     "metadata": {},
     "output_type": "execute_result"
    }
   ],
   "source": [
    "# y = pd.read_csv(y_path)['Y'].values\n",
    "# y = pd.read_csv(y_path)['y'].values\n",
    "y = pd.read_csv(y_path)['Antigen'].values - 1\n",
    "y.shape"
   ]
  },
  {
   "cell_type": "code",
   "execution_count": 166,
   "metadata": {},
   "outputs": [
    {
     "data": {
      "text/plain": [
       "dict_keys(['Z30', 'Z104', 'Z109', 'Z149', 'Z206'])"
      ]
     },
     "execution_count": 166,
     "metadata": {},
     "output_type": "execute_result"
    }
   ],
   "source": [
    "from util import get_genes_from_slide_outs\n",
    "\n",
    "lf_dict = get_genes_from_slide_outs(slide_outs)\n",
    "lf_dict.keys()"
   ]
  },
  {
   "cell_type": "code",
   "execution_count": 167,
   "metadata": {},
   "outputs": [
    {
     "data": {
      "text/plain": [
       "60"
      ]
     },
     "execution_count": 167,
     "metadata": {},
     "output_type": "execute_result"
    }
   ],
   "source": [
    "all_genes = np.unique(np.concatenate([lf_dict[lf] for lf in lf_dict]))\n",
    "len(all_genes)"
   ]
  },
  {
   "cell_type": "code",
   "execution_count": 168,
   "metadata": {},
   "outputs": [
    {
     "data": {
      "text/plain": [
       "(60, 1536)"
      ]
     },
     "execution_count": 168,
     "metadata": {},
     "output_type": "execute_result"
    }
   ],
   "source": [
    "from genept import GenePTEmbedder\n",
    "\n",
    "genept = GenePTEmbedder()\n",
    "gene_embeddings = genept.get_gene_info(all_genes)\n",
    "gene_embeddings.shape"
   ]
  },
  {
   "cell_type": "code",
   "execution_count": 169,
   "metadata": {},
   "outputs": [
    {
     "data": {
      "text/plain": [
       "(73, 60)"
      ]
     },
     "execution_count": 169,
     "metadata": {},
     "output_type": "execute_result"
    }
   ],
   "source": [
    "# Create 0, 1 presence/absence matrix\n",
    "\n",
    "gex_df = pd.read_csv(x_path, usecols=list(all_genes))\n",
    "gex_threshes = gex_df.mean(axis=0)\n",
    "\n",
    "mask_df = pd.DataFrame(\n",
    "    np.where(gex_df > gex_threshes, 1, 0), \n",
    "    index=gex_df.index, \n",
    "    columns=gex_df.columns\n",
    ")\n",
    "\n",
    "mask_df.shape"
   ]
  },
  {
   "cell_type": "code",
   "execution_count": 170,
   "metadata": {},
   "outputs": [
    {
     "data": {
      "text/plain": [
       "(73, 92160)"
      ]
     },
     "execution_count": 170,
     "metadata": {},
     "output_type": "execute_result"
    }
   ],
   "source": [
    "genept_df = np.einsum('ij,jk->ijk', mask_df.values, gene_embeddings)\n",
    "\n",
    "genept_df = genept_df.reshape(gex_df.shape[0], -1)\n",
    "genept_df.shape"
   ]
  },
  {
   "cell_type": "code",
   "execution_count": 171,
   "metadata": {},
   "outputs": [
    {
     "data": {
      "text/plain": [
       "(73, 1536)"
      ]
     },
     "execution_count": 171,
     "metadata": {},
     "output_type": "execute_result"
    }
   ],
   "source": [
    "wgenept_df = gex_df @ gene_embeddings\n",
    "wgenept_df.shape"
   ]
  },
  {
   "cell_type": "code",
   "execution_count": 172,
   "metadata": {},
   "outputs": [
    {
     "data": {
      "text/plain": [
       "(73, 5)"
      ]
     },
     "execution_count": 172,
     "metadata": {},
     "output_type": "execute_result"
    }
   ],
   "source": [
    "z_matrix = pd.read_csv(os.path.join(slide_outs, 'z_matrix.csv'), index_col=0)\n",
    "z_matrix = z_matrix[list(lf_dict.keys())].values\n",
    "z_matrix.shape"
   ]
  },
  {
   "cell_type": "code",
   "execution_count": 186,
   "metadata": {},
   "outputs": [],
   "source": [
    "# from models import Estimator\n",
    "from sklearn.linear_model import Lasso, LinearRegression\n",
    "\n",
    "# a=0.1\n",
    "# model = Lasso(alpha=a)\n",
    "model = LinearRegression()"
   ]
  },
  {
   "cell_type": "code",
   "execution_count": 187,
   "metadata": {},
   "outputs": [
    {
     "data": {
      "text/plain": [
       "0.6466880341880341"
      ]
     },
     "execution_count": 187,
     "metadata": {},
     "output_type": "execute_result"
    }
   ],
   "source": [
    "# SLIDE z-matrix performance\n",
    "lasso0 = Estimator(model=model)\n",
    "\n",
    "scores = lasso0.evaluate(z_matrix, y)\n",
    "auc0 = np.mean(scores)\n",
    "auc0"
   ]
  },
  {
   "cell_type": "code",
   "execution_count": 188,
   "metadata": {},
   "outputs": [
    {
     "data": {
      "text/plain": [
       "0.601466588966589"
      ]
     },
     "execution_count": 188,
     "metadata": {},
     "output_type": "execute_result"
    }
   ],
   "source": [
    "# Lasso regression on LF gene expression matrix\n",
    "lasso1 = Estimator(model=model)\n",
    "\n",
    "scores = lasso0.evaluate(gex_df.values, y)\n",
    "auc1 = np.mean(scores)\n",
    "auc1"
   ]
  },
  {
   "cell_type": "code",
   "execution_count": 189,
   "metadata": {},
   "outputs": [
    {
     "data": {
      "text/plain": [
       "0.5185703185703187"
      ]
     },
     "execution_count": 189,
     "metadata": {},
     "output_type": "execute_result"
    }
   ],
   "source": [
    "# Lasso regression on mean-thresholded gene expression\n",
    "\n",
    "lasso2 = Estimator(model=model)\n",
    "\n",
    "scores = lasso2.evaluate(mask_df.values, y)\n",
    "auc2 = np.mean(scores)\n",
    "auc2"
   ]
  },
  {
   "cell_type": "code",
   "execution_count": 190,
   "metadata": {},
   "outputs": [
    {
     "data": {
      "text/plain": [
       "0.5"
      ]
     },
     "execution_count": 190,
     "metadata": {},
     "output_type": "execute_result"
    }
   ],
   "source": [
    "# Lasso regression on semantic embeddings\n",
    "\n",
    "lasso3 = Estimator(model=model)\n",
    "\n",
    "scores = lasso3.evaluate(wgenept_df.values, y)\n",
    "auc3 = np.mean(scores)\n",
    "auc3"
   ]
  },
  {
   "cell_type": "code",
   "execution_count": 191,
   "metadata": {},
   "outputs": [],
   "source": [
    "# with open(os.path.join(slide_outs, 'standard_out.txt'), 'r') as f:\n",
    "#     standard_out = f.readlines()\n",
    "# slide_auc = standard_out[-1].split(' ')[-2]\n",
    "\n",
    "# slide_auc = '0.951218206396577'\n",
    "slide_auc = '0.747932'"
   ]
  },
  {
   "cell_type": "code",
   "execution_count": 192,
   "metadata": {},
   "outputs": [
    {
     "data": {
      "text/html": [
       "<div>\n",
       "<style scoped>\n",
       "    .dataframe tbody tr th:only-of-type {\n",
       "        vertical-align: middle;\n",
       "    }\n",
       "\n",
       "    .dataframe tbody tr th {\n",
       "        vertical-align: top;\n",
       "    }\n",
       "\n",
       "    .dataframe thead th {\n",
       "        text-align: right;\n",
       "    }\n",
       "</style>\n",
       "<table border=\"1\" class=\"dataframe\">\n",
       "  <thead>\n",
       "    <tr style=\"text-align: right;\">\n",
       "      <th></th>\n",
       "      <th>auc</th>\n",
       "    </tr>\n",
       "  </thead>\n",
       "  <tbody>\n",
       "    <tr>\n",
       "      <th>slide</th>\n",
       "      <td>0.747932</td>\n",
       "    </tr>\n",
       "    <tr>\n",
       "      <th>z_matrix</th>\n",
       "      <td>0.646688</td>\n",
       "    </tr>\n",
       "    <tr>\n",
       "      <th>gex</th>\n",
       "      <td>0.601467</td>\n",
       "    </tr>\n",
       "    <tr>\n",
       "      <th>mask_gex</th>\n",
       "      <td>0.51857</td>\n",
       "    </tr>\n",
       "    <tr>\n",
       "      <th>wgenept</th>\n",
       "      <td>0.5</td>\n",
       "    </tr>\n",
       "  </tbody>\n",
       "</table>\n",
       "</div>"
      ],
      "text/plain": [
       "               auc\n",
       "slide     0.747932\n",
       "z_matrix  0.646688\n",
       "gex       0.601467\n",
       "mask_gex   0.51857\n",
       "wgenept        0.5"
      ]
     },
     "execution_count": 192,
     "metadata": {},
     "output_type": "execute_result"
    }
   ],
   "source": [
    "pd.DataFrame({\n",
    "    'slide': slide_auc[:8],\n",
    "    'z_matrix': auc0,\n",
    "    'gex': auc1,\n",
    "    'mask_gex': auc2,\n",
    "    'wgenept': auc3\n",
    "}, index=['auc']).T\n"
   ]
  },
  {
   "cell_type": "code",
   "execution_count": null,
   "metadata": {},
   "outputs": [],
   "source": []
  },
  {
   "cell_type": "code",
   "execution_count": null,
   "metadata": {},
   "outputs": [],
   "source": []
  },
  {
   "cell_type": "code",
   "execution_count": null,
   "metadata": {},
   "outputs": [],
   "source": []
  }
 ],
 "metadata": {
  "kernelspec": {
   "display_name": "Python 3",
   "language": "python",
   "name": "python3"
  },
  "language_info": {
   "codemirror_mode": {
    "name": "ipython",
    "version": 3
   },
   "file_extension": ".py",
   "mimetype": "text/x-python",
   "name": "python",
   "nbconvert_exporter": "python",
   "pygments_lexer": "ipython3",
   "version": "3.10.16"
  }
 },
 "nbformat": 4,
 "nbformat_minor": 2
}
