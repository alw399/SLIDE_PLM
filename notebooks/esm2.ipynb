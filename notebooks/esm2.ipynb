{
 "cells": [
  {
   "cell_type": "code",
   "execution_count": 1,
   "metadata": {},
   "outputs": [],
   "source": [
    "%load_ext autoreload\n",
    "%autoreload 2"
   ]
  },
  {
   "cell_type": "code",
   "execution_count": null,
   "metadata": {},
   "outputs": [],
   "source": [
    "import numpy as np \n",
    "import pandas as pd \n",
    "import os\n",
    "import torch\n",
    "import scanpy as sc \n",
    "\n",
    "import sys\n",
    "sys.path.append('../src')"
   ]
  },
  {
   "cell_type": "code",
   "execution_count": null,
   "metadata": {},
   "outputs": [],
   "source": [
    "# # JING TUMOR\n",
    "# name = 'jing_tumor'\n",
    "# n_pcs = 16\n",
    "# model_name = f'esm2_pca{n_pcs}'\n",
    "# y_path = '/ix/djishnu/alw399/SLIDE_PLM/data/jing_tumor/tumor_y2.csv'\n",
    "# slide_outs = '/ix/djishnu/alw399/SLIDE_PLM/data/jing_tumor/0.05_0.5_out'\n",
    "# y = pd.read_csv(y_path)['y'].values\n",
    "# sequences = pd.read_csv('/ix/djishnu/alw399/SLIDE_PLM/data/jing_tumor/filtered_x2_cdr3_b.csv')['cdr3_b']\n",
    "\n",
    "# # CLONAL EXPANSION\n",
    "# name = 'jing_clonal_expansion'\n",
    "# n_pcs = 16\n",
    "# model_name = f'esm2_pca{n_pcs}'\n",
    "# y_path = '/ix/djishnu/Jane/SLIDESWING/jing_data/KIR+TEDDY/data/KIR+TEDDY_Yexpanded_filtered85.csv'\n",
    "# slide_outs = '/ix/djishnu/Jane/SLIDESWING/jing_data/KIR+TEDDY/KIR+TEDDY_filtered85/KIR+TEDDY_filtered85_noint_output/0.01_0.5_out'\n",
    "# y = pd.read_csv(y_path)['Y'].values\n",
    "# sequences = pd.read_csv('/ix/djishnu/Jane/SLIDESWING/jing_data/KIR+TEDDY/data/KIR+TEDDY_betaseqs_raw.csv', index_col=0)\n",
    "\n",
    "# # CONGA c2_gex_donor2\n",
    "# name = 'conga_c2_gex_donor2'\n",
    "# n_pcs = 16\n",
    "# model_name = f'esm2_pca{n_pcs}'\n",
    "# y_path = '/ix/djishnu/alw399/SLIDE_PLM/data/conga/slide/inputs/c2gex_donor2_y.csv'\n",
    "# slide_outs = '/ix/djishnu/alw399/SLIDE_PLM/data/conga/slide/outputs/c2gex_donor2/0.1_1_out'\n",
    "# y = pd.read_csv(y_path)['is_c2'].values\n",
    "# sequences = sc.read_h5ad('/ix/djishnu/alw399/SLIDE_PLM/data/conga/paper_data/10x_200k/donor2/donor2_conga.h5ad').obs['cdr3b']\n",
    "\n",
    "# MAIT donor2\n",
    "name = 'conga_mait_donor2'\n",
    "n_pcs = 16\n",
    "model_name = f'esm2_pca{n_pcs}'\n",
    "y_path = f'/ix/djishnu/alw399/SLIDE_PLM/data/conga/slide/inputs/mait_donor2_y.csv'\n",
    "slide_outs = '/ix/djishnu/alw399/SLIDE_PLM/data/conga/slide/outputs/mait_donor2/0.01_0.5_out'\n",
    "y = pd.read_csv(y_path)['is_c2'].values\n",
    "sequences = sc.read_h5ad('/ix/djishnu/alw399/SLIDE_PLM/data/conga/paper_data/10x_200k/donor2/donor2_conga.h5ad').obs['cdr3b']\n"
   ]
  },
  {
   "cell_type": "code",
   "execution_count": null,
   "metadata": {},
   "outputs": [],
   "source": [
    "from util import get_sigLFs\n",
    "\n",
    "z1s = get_sigLFs(slide_outs)\n",
    "z_matrix = pd.read_csv(os.path.join(slide_outs, 'z_matrix.csv'), index_col=0)\n",
    "z_matrix = z_matrix[z1s]\n",
    "z_matrix.shape"
   ]
  },
  {
   "cell_type": "code",
   "execution_count": null,
   "metadata": {},
   "outputs": [],
   "source": [
    "# Interactors did not contribute to signal\n",
    "# z_matrix = pd.DataFrame(z_matrix['Z7'])\n",
    "# z_matrix = pd.DataFrame(z_matrix['Z15', 'Z16'])\n",
    "z_matrix = pd.DataFrame(z_matrix['Z79'])"
   ]
  },
  {
   "cell_type": "code",
   "execution_count": null,
   "metadata": {},
   "outputs": [],
   "source": [
    "from util import remove_empty_tcrs\n",
    "\n",
    "sequences, y, z_matrix = remove_empty_tcrs(sequences, y, z_matrix)\n",
    "sequences.shape, y.shape, z_matrix.shape"
   ]
  },
  {
   "cell_type": "markdown",
   "metadata": {},
   "source": [
    "### Get embeddings"
   ]
  },
  {
   "cell_type": "code",
   "execution_count": null,
   "metadata": {},
   "outputs": [],
   "source": [
    "from esm2.Run_ESM2 import * \n",
    "\n",
    "data = load_model()\n",
    "model, alphabet, batch_converter = data"
   ]
  },
  {
   "cell_type": "code",
   "execution_count": null,
   "metadata": {},
   "outputs": [],
   "source": [
    "batch_labels = sequences.astype(str)\n",
    "seq_str_list = sequences.astype(str)\n",
    "raw_batch = list(zip(batch_labels, seq_str_list))\n",
    "\n",
    "embeddings = get_representations(raw_batch, model, alphabet, batch_converter )\n",
    "embeddings.shape"
   ]
  },
  {
   "cell_type": "code",
   "execution_count": null,
   "metadata": {},
   "outputs": [],
   "source": [
    "np.save(f'../data/esm2_embeddings/{name}.npy', embeddings)\n"
   ]
  },
  {
   "cell_type": "markdown",
   "metadata": {},
   "source": [
    "### Load embeddings"
   ]
  },
  {
   "cell_type": "code",
   "execution_count": null,
   "metadata": {},
   "outputs": [],
   "source": [
    "embeddings = np.load(f'../data/esm2_embeddings/{name}.npy')\n",
    "embeddings.shape"
   ]
  },
  {
   "cell_type": "code",
   "execution_count": null,
   "metadata": {},
   "outputs": [],
   "source": [
    "from sklearn.decomposition import PCA\n",
    "\n",
    "model = PCA(n_components=n_pcs)\n",
    "model.fit(embeddings)\n",
    "tcr_embeddings = model.transform(embeddings)\n",
    "tcr_embeddings.shape"
   ]
  },
  {
   "cell_type": "code",
   "execution_count": null,
   "metadata": {},
   "outputs": [],
   "source": [
    "import matplotlib.pyplot as plt\n",
    "\n",
    "fig, ax = plt.subplots(1, 2, figsize=(12, 5))\n",
    "\n",
    "# Scatter plot\n",
    "scatter = ax[0].scatter(tcr_embeddings[:, 0], tcr_embeddings[:, 1], c=y, cmap='tab20')\n",
    "legend1 = ax[0].legend(*scatter.legend_elements(), title=\"Classes\")\n",
    "ax[0].set_title('TCR Embeddings ESM2')\n",
    "ax[0].set_xlabel('PC1')\n",
    "ax[0].set_ylabel('PC2')\n",
    "\n",
    "# Cumulative variance explained plot\n",
    "cumsum_variance = np.cumsum(model.explained_variance_ratio_)\n",
    "ax[1].plot(range(1, n_pcs+1), cumsum_variance, marker='o')\n",
    "ax[1].set_title('Cumulative Variance Explained')\n",
    "ax[1].set_xlabel('Number of PCs')\n",
    "ax[1].set_ylabel('Cumulative Variance Explained')\n",
    "\n",
    "plt.tight_layout()\n",
    "os.makedirs(f'../results/plm/{name}', exist_ok=True)\n",
    "plt.savefig(f'../results/plm/{name}/{model_name}_pca.png')\n",
    "plt.show()\n"
   ]
  },
  {
   "cell_type": "code",
   "execution_count": null,
   "metadata": {},
   "outputs": [],
   "source": [
    "import sys\n",
    "sys.path.append('../src')\n",
    "\n",
    "from interaction import Interaction\n",
    "\n",
    "machop = Interaction(\n",
    "    slide_outs, \n",
    "    plm_embed=tcr_embeddings, \n",
    "    y=y,\n",
    "    z_matrix=z_matrix,\n",
    "    interacts_only=False,\n",
    "    model='LR'\n",
    ")\n",
    "\n",
    "machop.get_sig_interactions(fdr=0.2, n_iters=20, thresh=0.7)"
   ]
  },
  {
   "cell_type": "code",
   "execution_count": null,
   "metadata": {},
   "outputs": [],
   "source": [
    "from plotting import show_interactions\n",
    "show_interactions(machop, save_path=f'../results/plm/{name}/{model_name}_betas.png')"
   ]
  },
  {
   "cell_type": "code",
   "execution_count": null,
   "metadata": {},
   "outputs": [],
   "source": [
    "machop.get_joint_embed()\n",
    "joint_embed = machop.joint_embed.copy()\n",
    "joint_embed.shape"
   ]
  },
  {
   "cell_type": "code",
   "execution_count": null,
   "metadata": {},
   "outputs": [],
   "source": [
    "thresh = machop.params['thresh']\n",
    "fdr = machop.params['fdr']\n",
    "n_iters = machop.params['n_iters']\n",
    "\n",
    "np.save(f'../results/plm/{name}/{model_name}_joint_embed_fdr{fdr}_iters{n_iters}_thresh_{thresh}.npy', joint_embed)"
   ]
  },
  {
   "cell_type": "code",
   "execution_count": null,
   "metadata": {},
   "outputs": [],
   "source": [
    "full_embed = np.hstack([machop.z_matrix, machop.plm_embedding])\n",
    "full_embed.shape"
   ]
  },
  {
   "cell_type": "code",
   "execution_count": null,
   "metadata": {},
   "outputs": [],
   "source": [
    "from models import Estimator\n",
    "from sklearn.linear_model import Lasso, LinearRegression\n",
    "\n",
    "model = Lasso(alpha=0.05)"
   ]
  },
  {
   "cell_type": "code",
   "execution_count": null,
   "metadata": {},
   "outputs": [],
   "source": [
    "estimator = Estimator(model=model)\n",
    "auc0 = estimator.evaluate(joint_embed, y)\n",
    "auc1 = estimator.evaluate(full_embed, y)\n",
    "auc2 = estimator.evaluate(machop.z_matrix, y)\n",
    "auc3 = estimator.evaluate(machop.plm_embedding, y)"
   ]
  },
  {
   "cell_type": "code",
   "execution_count": null,
   "metadata": {},
   "outputs": [],
   "source": [
    "df = pd.DataFrame(\n",
    "    np.vstack([auc0, auc1, auc2, auc3]),\n",
    "    index=['joint', 'full', 'z-matrix', 'plm']\n",
    ")\n",
    "df.reset_index(inplace=True)"
   ]
  },
  {
   "cell_type": "code",
   "execution_count": null,
   "metadata": {},
   "outputs": [],
   "source": [
    "from plotting import show_performance\n",
    "show_performance(model, df, \n",
    "                 save_path=f'../results/plm/{name}/{model_name}_{model.__class__.__name__}_performance.png')"
   ]
  },
  {
   "cell_type": "code",
   "execution_count": null,
   "metadata": {},
   "outputs": [],
   "source": []
  },
  {
   "cell_type": "code",
   "execution_count": null,
   "metadata": {},
   "outputs": [],
   "source": [
    "model = LinearRegression()\n",
    "\n",
    "estimator = Estimator(model=model)\n",
    "auc0 = estimator.evaluate(joint_embed, y)\n",
    "auc1 = estimator.evaluate(full_embed, y)\n",
    "auc2 = estimator.evaluate(machop.z_matrix, y)\n",
    "auc3 = estimator.evaluate(machop.plm_embedding, y)"
   ]
  },
  {
   "cell_type": "code",
   "execution_count": null,
   "metadata": {},
   "outputs": [],
   "source": [
    "df = pd.DataFrame(\n",
    "    np.vstack([auc0, auc1, auc2, auc3]),\n",
    "    index=['joint', 'full', 'z-matrix', 'plm']\n",
    ")\n",
    "df.reset_index(inplace=True)\n",
    "\n",
    "show_performance(model, df, \n",
    "                 save_path=f'../results/plm/{name}/{model_name}_{model.__class__.__name__}_performance.png')"
   ]
  },
  {
   "cell_type": "code",
   "execution_count": null,
   "metadata": {},
   "outputs": [],
   "source": []
  },
  {
   "cell_type": "code",
   "execution_count": null,
   "metadata": {},
   "outputs": [],
   "source": [
    "joint_path = f'../results/plm/{name}/{model_name}_joint_embed.npy'\n",
    "joint_embed = np.load(joint_path)\n",
    "joint_embed.shape"
   ]
  },
  {
   "cell_type": "code",
   "execution_count": null,
   "metadata": {},
   "outputs": [],
   "source": [
    "import matplotlib.pyplot as plt\n",
    "\n",
    "n_plots = (joint_embed.shape[1] + 1) // 2\n",
    "n_rows = (n_plots + 2 - 1) // 2 \n",
    "\n",
    "fig, axs = plt.subplots(2, n_rows, figsize=(20, n_rows * 4)) \n",
    "axs = axs.flatten()\n",
    "\n",
    "for i in range(0, joint_embed.shape[1], 2):\n",
    "    dim1 = joint_embed[:, i]\n",
    "    dim2 = joint_embed[:, i+1] if i+1 < joint_embed.shape[1] else joint_embed[:, i-1] \n",
    "    \n",
    "    axs[i//2].scatter(dim1, dim2, c=y, alpha=0.5, cmap='coolwarm', s=2)\n",
    "    axs[i//2].set_xlabel(f'joint embed {i}')\n",
    "    axs[i//2].set_ylabel(f'joint embed {i+1}' if i+1 < joint_embed.shape[1] else f'joint embed {i-1}')\n",
    "\n",
    "plt.suptitle('Separation of classes using joint embedding from ESM2 model', fontsize=16)\n",
    "plt.tight_layout(rect=[0, 0.03, 1, 0.95])  \n",
    "plt.show()\n"
   ]
  },
  {
   "cell_type": "code",
   "execution_count": null,
   "metadata": {},
   "outputs": [],
   "source": []
  }
 ],
 "metadata": {
  "kernelspec": {
   "display_name": "turtle",
   "language": "python",
   "name": "python3"
  },
  "language_info": {
   "codemirror_mode": {
    "name": "ipython",
    "version": 3
   },
   "file_extension": ".py",
   "mimetype": "text/x-python",
   "name": "python",
   "nbconvert_exporter": "python",
   "pygments_lexer": "ipython3",
   "version": "3.10.16"
  },
  "orig_nbformat": 4
 },
 "nbformat": 4,
 "nbformat_minor": 2
}
