{
 "cells": [
  {
   "cell_type": "code",
   "execution_count": 22,
   "metadata": {},
   "outputs": [],
   "source": [
    "import numpy as np \n",
    "import pandas as pd \n",
    "from glob import glob"
   ]
  },
  {
   "cell_type": "code",
   "execution_count": 35,
   "metadata": {},
   "outputs": [
    {
     "data": {
      "text/plain": [
       "['Z118', 'Z107']"
      ]
     },
     "execution_count": 35,
     "metadata": {},
     "output_type": "execute_result"
    }
   ],
   "source": [
    "slide_outs = '/ix/djishnu/Jane/SLIDESWING_ihome/alok_data/out_files/0.1_0.5_out'\n",
    "z_matrix = pd.read_csv(f'{slide_outs}/z_matrix.csv', index_col=0)\n",
    "\n",
    "sig_LFs = glob(slide_outs+'/*gene_list*')\n",
    "sig_LFs = [f\"Z{path.replace('.txt','').rsplit('Z', 1)[1]}\" for path in sig_LFs]\n",
    "\n",
    "sig_LFs"
   ]
  },
  {
   "cell_type": "code",
   "execution_count": 37,
   "metadata": {},
   "outputs": [
    {
     "data": {
      "text/plain": [
       "(73, 2)"
      ]
     },
     "execution_count": 37,
     "metadata": {},
     "output_type": "execute_result"
    }
   ],
   "source": [
    "z_matrix = z_matrix[sig_LFs].values\n",
    "z_matrix.shape"
   ]
  },
  {
   "cell_type": "code",
   "execution_count": 3,
   "metadata": {},
   "outputs": [],
   "source": [
    "n, k = z_matrix.shape   # n samples, k LFs\n",
    "l = 20                  # plm embedding dimension\n",
    "\n",
    "y = np.random.randint(0, 2, n)"
   ]
  },
  {
   "cell_type": "code",
   "execution_count": 4,
   "metadata": {},
   "outputs": [
    {
     "data": {
      "text/plain": [
       "(73, 20)"
      ]
     },
     "execution_count": 4,
     "metadata": {},
     "output_type": "execute_result"
    }
   ],
   "source": [
    "plm_embedding = np.random.rand(n, l)\n",
    "plm_embedding.shape"
   ]
  },
  {
   "cell_type": "code",
   "execution_count": 5,
   "metadata": {},
   "outputs": [
    {
     "data": {
      "text/plain": [
       "(7,)"
      ]
     },
     "execution_count": 5,
     "metadata": {},
     "output_type": "execute_result"
    }
   ],
   "source": [
    "# fit z-matrix in linear part to get beta and LP\n",
    "\n",
    "from sklearn.linear_model import LinearRegression\n",
    "reg = LinearRegression().fit(z_matrix, y)\n",
    "\n",
    "LP = reg.predict(z_matrix)\n",
    "\n",
    "beta = reg.coef_        # these should already be calculated in SLIDE, would be good to check if they match\n",
    "beta.shape"
   ]
  },
  {
   "cell_type": "code",
   "execution_count": 6,
   "metadata": {},
   "outputs": [
    {
     "data": {
      "text/plain": [
       "(73, 7, 20)"
      ]
     },
     "execution_count": 6,
     "metadata": {},
     "output_type": "execute_result"
    }
   ],
   "source": [
    "# fit with interaction terms to get NP\n",
    "\n",
    "interaction_terms = np.einsum('ij,ik->ijk', z_matrix, plm_embedding)\n",
    "interaction_terms.shape"
   ]
  },
  {
   "cell_type": "code",
   "execution_count": 7,
   "metadata": {},
   "outputs": [
    {
     "data": {
      "text/plain": [
       "(73, 140)"
      ]
     },
     "execution_count": 7,
     "metadata": {},
     "output_type": "execute_result"
    }
   ],
   "source": [
    "interaction_terms = interaction_terms.reshape(n, k*l)   \n",
    "interaction_terms.shape"
   ]
  },
  {
   "cell_type": "code",
   "execution_count": 8,
   "metadata": {},
   "outputs": [
    {
     "name": "stderr",
     "output_type": "stream",
     "text": [
      "/ix/djishnu/alw399/envs/otter/lib/python3.10/site-packages/knockpy/mrc.py:276: UserWarning: \n",
      "\t---------------------------------------------------------\n",
      "\t---------------------------------------------------------\n",
      "\tThe choldate package is not installed:\n",
      "\tsolving for MVR or maxent knockoffs without it will be \n",
      "\t~5x slower. For instructions on how to install choldate,\n",
      "\tsee https://amspector100.github.io/knockpy/installation.html.\n",
      "\tTo disable this warning, set choldate_warning=False as an \n",
      "\targument or a knockoff_kwarg.\n",
      "\t----------------------------------------------------------\n",
      "\t----------------------------------------------------------\n",
      "\n",
      "  warnings.warn(constants.CHOLDATE_WARNING)\n"
     ]
    }
   ],
   "source": [
    "# identify significant interactions with knockoffs\n",
    "\n",
    "from knockpy import KnockoffFilter\n",
    "\n",
    "kfilter = KnockoffFilter(ksampler='gaussian', fstat='lasso')\n",
    "rejections = kfilter.forward(X=interaction_terms, y=y, fdr=0.1, shrinkage=\"ledoitwolf\")"
   ]
  },
  {
   "cell_type": "code",
   "execution_count": 9,
   "metadata": {},
   "outputs": [
    {
     "data": {
      "text/plain": [
       "10220"
      ]
     },
     "execution_count": 9,
     "metadata": {},
     "output_type": "execute_result"
    }
   ],
   "source": [
    "# filter out non-significant interactions\n",
    "\n",
    "interaction_terms = interaction_terms * rejections \n",
    "len(np.where(interaction_terms == 0)[0])"
   ]
  },
  {
   "cell_type": "code",
   "execution_count": 10,
   "metadata": {},
   "outputs": [
    {
     "data": {
      "text/plain": [
       "(140,)"
      ]
     },
     "execution_count": 10,
     "metadata": {},
     "output_type": "execute_result"
    }
   ],
   "source": [
    "# subtract LP from y\n",
    "y = y - LP\n",
    "\n",
    "# fit interaction terms to y\n",
    "reg = LinearRegression().fit(interaction_terms, y)\n",
    "\n",
    "beta_interaction = reg.coef_\n",
    "beta_interaction.shape"
   ]
  },
  {
   "cell_type": "code",
   "execution_count": 11,
   "metadata": {},
   "outputs": [
    {
     "data": {
      "text/plain": [
       "((73, 7, 20), (7, 20))"
      ]
     },
     "execution_count": 11,
     "metadata": {},
     "output_type": "execute_result"
    }
   ],
   "source": [
    "interaction_terms = interaction_terms.reshape(n, k, l)\n",
    "beta_interaction = beta_interaction.reshape(k,l)\n",
    "\n",
    "interaction_terms.shape, beta_interaction.shape"
   ]
  },
  {
   "cell_type": "code",
   "execution_count": 12,
   "metadata": {},
   "outputs": [
    {
     "data": {
      "text/plain": [
       "(73, 7)"
      ]
     },
     "execution_count": 12,
     "metadata": {},
     "output_type": "execute_result"
    }
   ],
   "source": [
    "NP = np.einsum('ijk,jk->ij', interaction_terms, beta_interaction)\n",
    "NP.shape"
   ]
  },
  {
   "cell_type": "code",
   "execution_count": 13,
   "metadata": {},
   "outputs": [
    {
     "data": {
      "image/png": "[encoded data removed]",
      "text/plain": [
       "<Figure size 640x480 with 2 Axes>"
      ]
     },
     "metadata": {},
     "output_type": "display_data"
    }
   ],
   "source": [
    "import seaborn as sns \n",
    "import matplotlib.pyplot as plt\n",
    "\n",
    "max = np.max(np.abs(beta_interaction))\n",
    "\n",
    "fig, ax = plt.subplots()\n",
    "sns.heatmap(beta_interaction, square=True, ax=ax, vmin=-max, vmax=max, \n",
    "            cmap='vlag', cbar_kws={'orientation': 'horizontal', 'shrink': 0.5})\n",
    "_ = ax.set(xlabel='LFs', ylabel='PLM embedding', title='Interaction coefficients')"
   ]
  },
  {
   "cell_type": "code",
   "execution_count": null,
   "metadata": {},
   "outputs": [],
   "source": []
  },
  {
   "cell_type": "code",
   "execution_count": null,
   "metadata": {},
   "outputs": [],
   "source": []
  },
  {
   "cell_type": "code",
   "execution_count": null,
   "metadata": {},
   "outputs": [],
   "source": []
  }
 ],
 "metadata": {
  "kernelspec": {
   "display_name": "bee",
   "language": "python",
   "name": "python3"
  },
  "language_info": {
   "codemirror_mode": {
    "name": "ipython",
    "version": 3
   },
   "file_extension": ".py",
   "mimetype": "text/x-python",
   "name": "python",
   "nbconvert_exporter": "python",
   "pygments_lexer": "ipython3",
   "version": "3.9.18"
  }
 },
 "nbformat": 4,
 "nbformat_minor": 2
}
