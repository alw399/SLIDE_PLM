{
 "cells": [
  {
   "cell_type": "code",
   "execution_count": 1,
   "metadata": {},
   "outputs": [],
   "source": [
    "%load_ext autoreload\n",
    "%autoreload 2"
   ]
  },
  {
   "cell_type": "code",
   "execution_count": 2,
   "metadata": {},
   "outputs": [
    {
     "data": {
      "text/plain": [
       "AnnData object with n_obs × n_vars = 11500 × 36601\n",
       "    obs: 'orig.ident', 'nCount_RNA', 'nFeature_RNA', 'nCount_Protein', 'nFeature_Protein', 'nCount_HTO', 'nFeature_HTO', 'HTO_maxID', 'HTO_secondID', 'HTO_margin', 'HTO_classification', 'HTO_classification.global', 'hash.ID', 'sample', 'percent.mt', 'cdr3_b', 'va_gene', 'ja_gene', 'cdr3_a', 'renamed_clusters', 'vb_gene', 'jb_gene', 'integrated_snn_res.0.3', 'cell_type', 'count', 'expansion', 'ID', 'timepoint', 'tp_indicator', 'tp_group', 'tp_single', 'group'\n",
       "    var: 'features'\n",
       "    obsm: 'X_umap'"
      ]
     },
     "execution_count": 2,
     "metadata": {},
     "output_type": "execute_result"
    }
   ],
   "source": [
    "import numpy as np \n",
    "import pandas as pd \n",
    "import scanpy as sc \n",
    "import torch\n",
    "\n",
    "adata = sc.read_h5ad('/ix/djishnu/Jane/SLIDESWING/jing_data/KIR+TEDDY/data/KIR+TEDDY_filtered85.h5ad')\n",
    "adata"
   ]
  },
  {
   "cell_type": "code",
   "execution_count": 3,
   "metadata": {},
   "outputs": [
    {
     "data": {
      "text/html": [
       "<div>\n",
       "<style scoped>\n",
       "    .dataframe tbody tr th:only-of-type {\n",
       "        vertical-align: middle;\n",
       "    }\n",
       "\n",
       "    .dataframe tbody tr th {\n",
       "        vertical-align: top;\n",
       "    }\n",
       "\n",
       "    .dataframe thead th {\n",
       "        text-align: right;\n",
       "    }\n",
       "</style>\n",
       "<table border=\"1\" class=\"dataframe\">\n",
       "  <thead>\n",
       "    <tr style=\"text-align: right;\">\n",
       "      <th></th>\n",
       "      <th>cdr3_a</th>\n",
       "      <th>cdr3_b</th>\n",
       "      <th>nFeature_Protein</th>\n",
       "    </tr>\n",
       "  </thead>\n",
       "  <tbody>\n",
       "    <tr>\n",
       "      <th>AAACCTGAGGTGCTTT-1_1</th>\n",
       "      <td>CAMREPFTDKLIF</td>\n",
       "      <td>CASSVDVPGPPMMGYTF</td>\n",
       "      <td>38</td>\n",
       "    </tr>\n",
       "    <tr>\n",
       "      <th>AAAGATGCATACTCTT-1_1</th>\n",
       "      <td></td>\n",
       "      <td>CASSLIRGSNEQFF</td>\n",
       "      <td>38</td>\n",
       "    </tr>\n",
       "    <tr>\n",
       "      <th>AAAGATGGTGGCTCCA-1_1</th>\n",
       "      <td>CAAGCLYGGSQGNLIF</td>\n",
       "      <td>CASSPGTGYYGYTF</td>\n",
       "      <td>37</td>\n",
       "    </tr>\n",
       "    <tr>\n",
       "      <th>AAAGATGTCCAAGTAC-1_1</th>\n",
       "      <td></td>\n",
       "      <td>CASSQVQDRTGGPGQIGVFGELFF</td>\n",
       "      <td>38</td>\n",
       "    </tr>\n",
       "    <tr>\n",
       "      <th>AAAGCAACAAATACAG-1_1</th>\n",
       "      <td></td>\n",
       "      <td></td>\n",
       "      <td>38</td>\n",
       "    </tr>\n",
       "    <tr>\n",
       "      <th>...</th>\n",
       "      <td>...</td>\n",
       "      <td>...</td>\n",
       "      <td>...</td>\n",
       "    </tr>\n",
       "    <tr>\n",
       "      <th>TTTGGTTGTCCATCCT-1_9</th>\n",
       "      <td>CAFMGYNNNDMRF</td>\n",
       "      <td>CASSYRGTGELFF</td>\n",
       "      <td>38</td>\n",
       "    </tr>\n",
       "    <tr>\n",
       "      <th>TTTGTCAAGGGATACC-1_9</th>\n",
       "      <td></td>\n",
       "      <td>CASSLRGIGELFF</td>\n",
       "      <td>38</td>\n",
       "    </tr>\n",
       "    <tr>\n",
       "      <th>TTTGTCAAGTTACCCA-1_9</th>\n",
       "      <td>CAFMGYNNNDMRF</td>\n",
       "      <td>CASSLRGPGELFF</td>\n",
       "      <td>38</td>\n",
       "    </tr>\n",
       "    <tr>\n",
       "      <th>TTTGTCAGTAGCCTAT-1_9</th>\n",
       "      <td>CAPKQTGANNLFF</td>\n",
       "      <td>CASGGGTLQPQHF</td>\n",
       "      <td>38</td>\n",
       "    </tr>\n",
       "    <tr>\n",
       "      <th>TTTGTCATCAGCGACC-1_9</th>\n",
       "      <td></td>\n",
       "      <td>CASSHPRGTGGVWEKLFF</td>\n",
       "      <td>38</td>\n",
       "    </tr>\n",
       "  </tbody>\n",
       "</table>\n",
       "<p>11500 rows × 3 columns</p>\n",
       "</div>"
      ],
      "text/plain": [
       "                                cdr3_a                    cdr3_b  \\\n",
       "AAACCTGAGGTGCTTT-1_1     CAMREPFTDKLIF         CASSVDVPGPPMMGYTF   \n",
       "AAAGATGCATACTCTT-1_1                              CASSLIRGSNEQFF   \n",
       "AAAGATGGTGGCTCCA-1_1  CAAGCLYGGSQGNLIF            CASSPGTGYYGYTF   \n",
       "AAAGATGTCCAAGTAC-1_1                    CASSQVQDRTGGPGQIGVFGELFF   \n",
       "AAAGCAACAAATACAG-1_1                                               \n",
       "...                                ...                       ...   \n",
       "TTTGGTTGTCCATCCT-1_9     CAFMGYNNNDMRF             CASSYRGTGELFF   \n",
       "TTTGTCAAGGGATACC-1_9                               CASSLRGIGELFF   \n",
       "TTTGTCAAGTTACCCA-1_9     CAFMGYNNNDMRF             CASSLRGPGELFF   \n",
       "TTTGTCAGTAGCCTAT-1_9     CAPKQTGANNLFF             CASGGGTLQPQHF   \n",
       "TTTGTCATCAGCGACC-1_9                          CASSHPRGTGGVWEKLFF   \n",
       "\n",
       "                      nFeature_Protein  \n",
       "AAACCTGAGGTGCTTT-1_1                38  \n",
       "AAAGATGCATACTCTT-1_1                38  \n",
       "AAAGATGGTGGCTCCA-1_1                37  \n",
       "AAAGATGTCCAAGTAC-1_1                38  \n",
       "AAAGCAACAAATACAG-1_1                38  \n",
       "...                                ...  \n",
       "TTTGGTTGTCCATCCT-1_9                38  \n",
       "TTTGTCAAGGGATACC-1_9                38  \n",
       "TTTGTCAAGTTACCCA-1_9                38  \n",
       "TTTGTCAGTAGCCTAT-1_9                38  \n",
       "TTTGTCATCAGCGACC-1_9                38  \n",
       "\n",
       "[11500 rows x 3 columns]"
      ]
     },
     "execution_count": 3,
     "metadata": {},
     "output_type": "execute_result"
    }
   ],
   "source": [
    "adata.obs[['cdr3_a', 'cdr3_b', 'nFeature_Protein']]"
   ]
  },
  {
   "cell_type": "code",
   "execution_count": 5,
   "metadata": {},
   "outputs": [
    {
     "data": {
      "text/plain": [
       "['CA', 'AF', 'FM', 'MG', 'GY', 'YN', 'NN', 'NN', 'ND', 'DM', 'MR', 'RF']"
      ]
     },
     "execution_count": 5,
     "metadata": {},
     "output_type": "execute_result"
    }
   ],
   "source": [
    "def tokenize_kmers(tcr, k=2):\n",
    "    tokens = []\n",
    "    for i in range(0, len(tcr) - k + 1):\n",
    "        tokens.append(tcr[i:i+k])\n",
    "    return tokens\n",
    "\n",
    "tokenize_kmers('CAFMGYNNNDMRF')"
   ]
  },
  {
   "cell_type": "code",
   "execution_count": 6,
   "metadata": {},
   "outputs": [
    {
     "data": {
      "text/html": [
       "<div>\n",
       "<style scoped>\n",
       "    .dataframe tbody tr th:only-of-type {\n",
       "        vertical-align: middle;\n",
       "    }\n",
       "\n",
       "    .dataframe tbody tr th {\n",
       "        vertical-align: top;\n",
       "    }\n",
       "\n",
       "    .dataframe thead th {\n",
       "        text-align: right;\n",
       "    }\n",
       "</style>\n",
       "<table border=\"1\" class=\"dataframe\">\n",
       "  <thead>\n",
       "    <tr style=\"text-align: right;\">\n",
       "      <th></th>\n",
       "      <th>0</th>\n",
       "      <th>1</th>\n",
       "      <th>2</th>\n",
       "      <th>3</th>\n",
       "      <th>4</th>\n",
       "      <th>5</th>\n",
       "      <th>6</th>\n",
       "      <th>7</th>\n",
       "    </tr>\n",
       "  </thead>\n",
       "  <tbody>\n",
       "    <tr>\n",
       "      <th>AA</th>\n",
       "      <td>0.452211</td>\n",
       "      <td>0.897766</td>\n",
       "      <td>0.296184</td>\n",
       "      <td>0.956870</td>\n",
       "      <td>0.551719</td>\n",
       "      <td>0.665739</td>\n",
       "      <td>0.137623</td>\n",
       "      <td>0.777882</td>\n",
       "    </tr>\n",
       "    <tr>\n",
       "      <th>AC</th>\n",
       "      <td>0.489241</td>\n",
       "      <td>0.274413</td>\n",
       "      <td>0.218635</td>\n",
       "      <td>0.405953</td>\n",
       "      <td>0.674271</td>\n",
       "      <td>0.946989</td>\n",
       "      <td>0.330692</td>\n",
       "      <td>0.413902</td>\n",
       "    </tr>\n",
       "    <tr>\n",
       "      <th>AD</th>\n",
       "      <td>0.681595</td>\n",
       "      <td>0.194633</td>\n",
       "      <td>0.511418</td>\n",
       "      <td>0.526199</td>\n",
       "      <td>0.285462</td>\n",
       "      <td>0.643736</td>\n",
       "      <td>0.791053</td>\n",
       "      <td>0.499179</td>\n",
       "    </tr>\n",
       "    <tr>\n",
       "      <th>AE</th>\n",
       "      <td>0.336490</td>\n",
       "      <td>0.879769</td>\n",
       "      <td>0.980844</td>\n",
       "      <td>0.841660</td>\n",
       "      <td>0.980381</td>\n",
       "      <td>0.884293</td>\n",
       "      <td>0.226943</td>\n",
       "      <td>0.042929</td>\n",
       "    </tr>\n",
       "    <tr>\n",
       "      <th>AF</th>\n",
       "      <td>0.732887</td>\n",
       "      <td>0.210815</td>\n",
       "      <td>0.931954</td>\n",
       "      <td>0.986636</td>\n",
       "      <td>0.204144</td>\n",
       "      <td>0.760267</td>\n",
       "      <td>0.899688</td>\n",
       "      <td>0.867853</td>\n",
       "    </tr>\n",
       "    <tr>\n",
       "      <th>...</th>\n",
       "      <td>...</td>\n",
       "      <td>...</td>\n",
       "      <td>...</td>\n",
       "      <td>...</td>\n",
       "      <td>...</td>\n",
       "      <td>...</td>\n",
       "      <td>...</td>\n",
       "      <td>...</td>\n",
       "    </tr>\n",
       "    <tr>\n",
       "      <th>YS</th>\n",
       "      <td>0.313625</td>\n",
       "      <td>0.321959</td>\n",
       "      <td>0.862532</td>\n",
       "      <td>0.890529</td>\n",
       "      <td>0.112351</td>\n",
       "      <td>0.866669</td>\n",
       "      <td>0.575101</td>\n",
       "      <td>0.950839</td>\n",
       "    </tr>\n",
       "    <tr>\n",
       "      <th>YT</th>\n",
       "      <td>0.690147</td>\n",
       "      <td>0.341925</td>\n",
       "      <td>0.023581</td>\n",
       "      <td>0.604527</td>\n",
       "      <td>0.752931</td>\n",
       "      <td>0.717796</td>\n",
       "      <td>0.895300</td>\n",
       "      <td>0.470386</td>\n",
       "    </tr>\n",
       "    <tr>\n",
       "      <th>YV</th>\n",
       "      <td>0.078893</td>\n",
       "      <td>0.049915</td>\n",
       "      <td>0.586552</td>\n",
       "      <td>0.978205</td>\n",
       "      <td>0.792875</td>\n",
       "      <td>0.554890</td>\n",
       "      <td>0.461505</td>\n",
       "      <td>0.151695</td>\n",
       "    </tr>\n",
       "    <tr>\n",
       "      <th>YW</th>\n",
       "      <td>0.378826</td>\n",
       "      <td>0.215704</td>\n",
       "      <td>0.797652</td>\n",
       "      <td>0.633763</td>\n",
       "      <td>0.454193</td>\n",
       "      <td>0.081520</td>\n",
       "      <td>0.457264</td>\n",
       "      <td>0.969015</td>\n",
       "    </tr>\n",
       "    <tr>\n",
       "      <th>YY</th>\n",
       "      <td>0.756536</td>\n",
       "      <td>0.236537</td>\n",
       "      <td>0.616847</td>\n",
       "      <td>0.026037</td>\n",
       "      <td>0.611226</td>\n",
       "      <td>0.481076</td>\n",
       "      <td>0.295801</td>\n",
       "      <td>0.924529</td>\n",
       "    </tr>\n",
       "  </tbody>\n",
       "</table>\n",
       "<p>400 rows × 8 columns</p>\n",
       "</div>"
      ],
      "text/plain": [
       "           0         1         2         3         4         5         6  \\\n",
       "AA  0.452211  0.897766  0.296184  0.956870  0.551719  0.665739  0.137623   \n",
       "AC  0.489241  0.274413  0.218635  0.405953  0.674271  0.946989  0.330692   \n",
       "AD  0.681595  0.194633  0.511418  0.526199  0.285462  0.643736  0.791053   \n",
       "AE  0.336490  0.879769  0.980844  0.841660  0.980381  0.884293  0.226943   \n",
       "AF  0.732887  0.210815  0.931954  0.986636  0.204144  0.760267  0.899688   \n",
       "..       ...       ...       ...       ...       ...       ...       ...   \n",
       "YS  0.313625  0.321959  0.862532  0.890529  0.112351  0.866669  0.575101   \n",
       "YT  0.690147  0.341925  0.023581  0.604527  0.752931  0.717796  0.895300   \n",
       "YV  0.078893  0.049915  0.586552  0.978205  0.792875  0.554890  0.461505   \n",
       "YW  0.378826  0.215704  0.797652  0.633763  0.454193  0.081520  0.457264   \n",
       "YY  0.756536  0.236537  0.616847  0.026037  0.611226  0.481076  0.295801   \n",
       "\n",
       "           7  \n",
       "AA  0.777882  \n",
       "AC  0.413902  \n",
       "AD  0.499179  \n",
       "AE  0.042929  \n",
       "AF  0.867853  \n",
       "..       ...  \n",
       "YS  0.950839  \n",
       "YT  0.470386  \n",
       "YV  0.151695  \n",
       "YW  0.969015  \n",
       "YY  0.924529  \n",
       "\n",
       "[400 rows x 8 columns]"
      ]
     },
     "execution_count": 6,
     "metadata": {},
     "output_type": "execute_result"
    }
   ],
   "source": [
    "import itertools\n",
    "\n",
    "amino_acids = np.unique(list(itertools.chain.from_iterable(adata.obs['cdr3_a'].values)))\n",
    "\n",
    "def create_lookup_table(amino_acids, k=2, token_size=8):\n",
    "    pairs = [''.join(p) for p in itertools.product(amino_acids, repeat=k)]\n",
    "    pairs = np.array(pairs)\n",
    "    lookup_table = np.random.rand(pairs.shape[0], token_size)\n",
    "    lookup_df = pd.DataFrame(lookup_table, index=pairs)\n",
    "    return lookup_df\n",
    "\n",
    "lookup_df = create_lookup_table(amino_acids)\n",
    "lookup_df"
   ]
  },
  {
   "cell_type": "code",
   "execution_count": null,
   "metadata": {},
   "outputs": [],
   "source": []
  },
  {
   "cell_type": "code",
   "execution_count": 21,
   "metadata": {},
   "outputs": [],
   "source": [
    "import sys \n",
    "sys.path.append('../src')\n",
    "from kmer import Kmerizer\n",
    "\n",
    "mermaid = Kmerizer(k=2, token_size=8)"
   ]
  },
  {
   "cell_type": "code",
   "execution_count": 26,
   "metadata": {},
   "outputs": [
    {
     "data": {
      "text/plain": [
       "(50, 8)"
      ]
     },
     "execution_count": 26,
     "metadata": {},
     "output_type": "execute_result"
    }
   ],
   "source": [
    "token = mermaid.encode('CASSQVQDRTGGPGQIGVFGELFF', max_len=50)\n",
    "token.shape"
   ]
  },
  {
   "cell_type": "code",
   "execution_count": 27,
   "metadata": {},
   "outputs": [
    {
     "data": {
      "text/plain": [
       "(11500, 30, 8)"
      ]
     },
     "execution_count": 27,
     "metadata": {},
     "output_type": "execute_result"
    }
   ],
   "source": [
    "tcr_embeddings = mermaid.encode_batch(adata.obs['cdr3_a'].values)\n",
    "tcr_embeddings.shape"
   ]
  },
  {
   "cell_type": "code",
   "execution_count": 31,
   "metadata": {},
   "outputs": [],
   "source": [
    "np.save('../data/2mer_embeddings.npy', tcr_embeddings)"
   ]
  },
  {
   "cell_type": "code",
   "execution_count": 29,
   "metadata": {},
   "outputs": [
    {
     "data": {
      "text/plain": [
       "(11500, 32)"
      ]
     },
     "execution_count": 29,
     "metadata": {},
     "output_type": "execute_result"
    }
   ],
   "source": [
    "adata.obs.shape"
   ]
  }
 ],
 "metadata": {
  "kernelspec": {
   "display_name": "bee",
   "language": "python",
   "name": "python3"
  },
  "language_info": {
   "codemirror_mode": {
    "name": "ipython",
    "version": 3
   },
   "file_extension": ".py",
   "mimetype": "text/x-python",
   "name": "python",
   "nbconvert_exporter": "python",
   "pygments_lexer": "ipython3",
   "version": "3.9.18"
  }
 },
 "nbformat": 4,
 "nbformat_minor": 2
}
